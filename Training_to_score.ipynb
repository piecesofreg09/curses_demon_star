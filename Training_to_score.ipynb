{
 "cells": [
  {
   "cell_type": "markdown",
   "metadata": {},
   "source": [
    "## 1. Import All Packages"
   ]
  },
  {
   "cell_type": "code",
   "execution_count": 4,
   "metadata": {
    "scrolled": true
   },
   "outputs": [
    {
     "name": "stdout",
     "output_type": "stream",
     "text": [
      "Wall time: 0 ns\n"
     ]
    }
   ],
   "source": [
    "%%time\n",
    "import numpy as np\n",
    "import math\n",
    "import pandas as pd\n",
    "import pickle, os, math\n",
    "from keras.models import Sequential\n",
    "from keras.callbacks import Callback\n",
    "from keras.layers import Dense\n",
    "import tensorflow as tf\n",
    "from sklearn.model_selection import train_test_split\n",
    "from sklearn.metrics import confusion_matrix, f1_score, precision_score, recall_score\n",
    "from sklearn.svm import SVC\n",
    "from sklearn.neural_network import MLPClassifier\n",
    "from sklearn.model_selection import cross_val_score\n",
    "from tqdm import tqdm\n",
    "from random import randint"
   ]
  },
  {
   "cell_type": "markdown",
   "metadata": {},
   "source": [
    "## 2. Read data"
   ]
  },
  {
   "cell_type": "markdown",
   "metadata": {},
   "source": [
    "The data is combined from three different datasets.\n",
    "\n",
    "The enermy frequency are respectively 2, 1, 8."
   ]
  },
  {
   "cell_type": "code",
   "execution_count": 5,
   "metadata": {},
   "outputs": [
    {
     "name": "stdout",
     "output_type": "stream",
     "text": [
      "(90029, 221)\n",
      "(41569, 221)\n",
      "(599671, 221)\n",
      "(731269, 221)\n",
      "Wall time: 3.44 s\n"
     ]
    }
   ],
   "source": [
    "%%time\n",
    "\n",
    "data_dir = os.path.join(os.curdir, 'Data', 'Score', '400000_68per', 'data_basic.pkl')\n",
    "with open(data_dir, 'rb') as in_file:\n",
    "    ot = pickle.load(in_file)\n",
    "data_pics_0 = ot['data']\n",
    "target_pics_0 = ot['target']\n",
    "print(data_pics_0.shape)\n",
    "\n",
    "data_dir = os.path.join(os.curdir, 'Data', 'Score', '400000_1freq_fires1', 'data_basic.pkl')\n",
    "with open(data_dir, 'rb') as in_file:\n",
    "    ot = pickle.load(in_file)\n",
    "data_pics_3 = ot['data']\n",
    "target_pics_3 = ot['target']\n",
    "print(data_pics_3.shape)\n",
    "\n",
    "data_dir = os.path.join(os.curdir, 'Data', 'Score', '800000_8freq', 'data_basic.pkl')\n",
    "with open(data_dir, 'rb') as in_file:\n",
    "    ot = pickle.load(in_file)\n",
    "data_pics = ot['data']\n",
    "target_pics = ot['target']\n",
    "print(data_pics.shape)\n",
    "\n",
    "data_pics = data_pics.append(data_pics_0).append(data_pics_3)\n",
    "target_pics = target_pics.append(target_pics_0).append(target_pics_3)\n",
    "\n",
    "\n",
    "data_pics.reset_index(inplace=True, drop=True)\n",
    "target_pics.reset_index(inplace=True, drop=True)\n",
    "\n",
    "print(data_pics.shape)"
   ]
  },
  {
   "cell_type": "markdown",
   "metadata": {},
   "source": [
    "## 3. Preprocess Data"
   ]
  },
  {
   "cell_type": "markdown",
   "metadata": {},
   "source": [
    "The same preprocessing is done to the scoring training data.\n",
    "\n",
    "The imbalance between classes are more prominent, so a new group of data is generated using the same method. The new dataset has 82k data points, which should be enough for training purposes."
   ]
  },
  {
   "cell_type": "code",
   "execution_count": 16,
   "metadata": {},
   "outputs": [
    {
     "name": "stdout",
     "output_type": "stream",
     "text": [
      "(658142, 221)\n",
      "class 0 has 616569 points\n",
      "class 1 has 41573 points\n",
      "41573 + 207865 = 249438\n"
     ]
    }
   ],
   "source": [
    "X_train, X_test, y_train, y_test = train_test_split(\n",
    "    data_pics, target_pics, test_size=0.1, random_state=randint(100, 10000))\n",
    "print(X_train.shape)\n",
    "X_train_train, X_vali, y_train_train, y_vali = train_test_split(\n",
    "    X_train, y_train, test_size=0.3, random_state=randint(100, 10000))\n",
    "print('class 0 has ' + str(len(y_train.index[y_train[0] == 0].tolist())) + ' points')\n",
    "print('class 1 has ' + str(len(y_train.index[y_train[0] == 1].tolist())) + ' points')\n",
    "\n",
    "index_0 = y_train.index[y_train[0] == 0].tolist()\n",
    "index_1 = y_train.index[y_train[0] != 0].tolist()\n",
    "index_0_comparable_to_1 = np.random.choice(index_0, math.floor(len(index_1) * 5))\n",
    "samples = np.concatenate([index_1, index_0_comparable_to_1])\n",
    "print(str(len(index_1)) + ' + ' + str(len(index_0_comparable_to_1)) + ' = ' + str(len(samples)))\n",
    "\n",
    "\n",
    "small_data = data_pics.iloc[samples, :]\n",
    "small_target = target_pics.iloc[samples, :]\n",
    "\n",
    "X_train_small, X_test_small, y_train_small, y_test_small = train_test_split(\n",
    "    small_data, small_target, test_size=0.3, random_state=randint(100, 10000))\n",
    "X_train_train_small, X_vali_small, y_train_train_small, y_vali_small = train_test_split(\n",
    "    X_train_small, y_train_small, test_size=0.3, random_state=randint(100, 10000))\n",
    "\n",
    "y_train_small_m = np.ravel(y_train_small)\n",
    "y_test_small_m = np.ravel(y_test_small)\n",
    "y_train_train_small_m = np.ravel(y_train_train_small)\n",
    "y_vali_small_m = np.ravel(y_vali_small)\n",
    "y_train_m = np.ravel(y_train)\n",
    "y_test_m = np.ravel(y_test)\n",
    "y_train_train_m = np.ravel(y_train_train)\n",
    "y_vali_m = np.ravel(y_vali)"
   ]
  },
  {
   "cell_type": "markdown",
   "metadata": {},
   "source": [
    "## 3. Training"
   ]
  },
  {
   "cell_type": "markdown",
   "metadata": {},
   "source": [
    "### Multi Layer Perceptor Classifier"
   ]
  },
  {
   "cell_type": "code",
   "execution_count": 17,
   "metadata": {},
   "outputs": [
    {
     "name": "stdout",
     "output_type": "stream",
     "text": [
      "Iteration 1, loss = 0.42540756\n",
      "Iteration 2, loss = 0.35882314\n",
      "Iteration 3, loss = 0.34149188\n",
      "Iteration 4, loss = 0.33233710\n",
      "Iteration 5, loss = 0.32398253\n",
      "Iteration 6, loss = 0.32194079\n",
      "Iteration 7, loss = 0.31699058\n",
      "Iteration 8, loss = 0.31339209\n",
      "Iteration 9, loss = 0.31070863\n",
      "Iteration 10, loss = 0.31005143\n",
      "Iteration 11, loss = 0.30610510\n",
      "Iteration 12, loss = 0.30699000\n",
      "Iteration 13, loss = 0.30644254\n",
      "Iteration 14, loss = 0.30374718\n",
      "Iteration 15, loss = 0.30404229\n",
      "Iteration 16, loss = 0.30242831\n",
      "Iteration 17, loss = 0.30104619\n",
      "Iteration 18, loss = 0.30121528\n",
      "Iteration 19, loss = 0.30139158\n",
      "Iteration 20, loss = 0.30112993\n",
      "Training loss did not improve more than tol=0.000010 for two consecutive epochs. Stopping.\n"
     ]
    },
    {
     "data": {
      "text/plain": [
       "0.8849689972204404"
      ]
     },
     "execution_count": 17,
     "metadata": {},
     "output_type": "execute_result"
    }
   ],
   "source": [
    "mlpc_st = MLPClassifier(hidden_layer_sizes=(256, 128, 64, 32, 16, 8),\n",
    "                        alpha=0.15, max_iter=1000, batch_size=2000,\n",
    "                        verbose=True, learning_rate_init=0.01, tol=1e-5,\n",
    "                        learning_rate='adaptive')\n",
    "\n",
    "mlpc_st.fit(X_train_small, y_train_small_m)\n",
    "mlpc_st.score(X_test_small, y_test_small_m)"
   ]
  },
  {
   "cell_type": "code",
   "execution_count": 19,
   "metadata": {},
   "outputs": [
    {
     "data": {
      "text/plain": [
       "(array([ 6596, 66224,  2012], dtype=int64), array([0, 1, 2, 3]))"
      ]
     },
     "execution_count": 19,
     "metadata": {},
     "output_type": "execute_result"
    }
   ],
   "source": [
    "ypred = mlpc_st.predict(X_test_small)\n",
    "np.histogram(ypred - y_test_small_m + 1, bins=[0, 1, 2, 3])"
   ]
  },
  {
   "cell_type": "code",
   "execution_count": 20,
   "metadata": {
    "scrolled": true
   },
   "outputs": [
    {
     "data": {
      "text/plain": [
       "0.10595734445157153"
      ]
     },
     "execution_count": 20,
     "metadata": {},
     "output_type": "execute_result"
    }
   ],
   "source": [
    "sum(ypred) / len(ypred)"
   ]
  },
  {
   "cell_type": "code",
   "execution_count": 24,
   "metadata": {},
   "outputs": [],
   "source": [
    "from sklearn.metrics import confusion_matrix, f1_score"
   ]
  },
  {
   "cell_type": "code",
   "execution_count": 23,
   "metadata": {},
   "outputs": [
    {
     "data": {
      "text/plain": [
       "array([60307,  2012,  6596,  5917], dtype=int64)"
      ]
     },
     "execution_count": 23,
     "metadata": {},
     "output_type": "execute_result"
    }
   ],
   "source": [
    "print(confusion_matrix(y_test_small_m, ypred).ravel())"
   ]
  },
  {
   "cell_type": "code",
   "execution_count": 25,
   "metadata": {},
   "outputs": [
    {
     "name": "stdout",
     "output_type": "stream",
     "text": [
      "0.5789061735642306\n"
     ]
    }
   ],
   "source": [
    "print(f1_score(y_test_small_m, ypred))"
   ]
  },
  {
   "cell_type": "code",
   "execution_count": 9,
   "metadata": {},
   "outputs": [
    {
     "name": "stdout",
     "output_type": "stream",
     "text": [
      "Iteration 1, loss = 0.71261470\n",
      "Iteration 2, loss = 0.55959339\n",
      "Iteration 3, loss = 0.55142420\n",
      "Iteration 4, loss = 0.54814739\n",
      "Iteration 5, loss = 0.54696221\n",
      "Iteration 6, loss = 0.54093755\n",
      "Iteration 7, loss = 0.53758349\n",
      "Iteration 8, loss = 0.53550233\n",
      "Iteration 9, loss = 0.52066649\n",
      "Iteration 10, loss = 0.51307636\n",
      "Iteration 11, loss = 0.50353729\n",
      "Iteration 12, loss = 0.49809278\n",
      "Iteration 13, loss = 0.49306400\n",
      "Iteration 14, loss = 0.48838948\n",
      "Iteration 15, loss = 0.47812446\n",
      "Iteration 16, loss = 0.47741668\n",
      "Iteration 17, loss = 0.47061686\n",
      "Iteration 18, loss = 0.47172241\n",
      "Iteration 19, loss = 0.46214790\n",
      "Iteration 20, loss = 0.46251245\n",
      "Iteration 21, loss = 0.46349227\n",
      "Iteration 22, loss = 0.45994913\n",
      "Iteration 23, loss = 0.45249831\n",
      "Iteration 24, loss = 0.44145668\n",
      "Iteration 25, loss = 0.44242797\n",
      "Iteration 26, loss = 0.43816604\n",
      "Iteration 27, loss = 0.43772209\n",
      "Iteration 28, loss = 0.43178104\n",
      "Iteration 29, loss = 0.42987710\n",
      "Iteration 30, loss = 0.42212287\n",
      "Iteration 31, loss = 0.41446887\n",
      "Iteration 32, loss = 0.41799399\n",
      "Iteration 33, loss = 0.42033904\n",
      "Iteration 34, loss = 0.41260492\n",
      "Iteration 35, loss = 0.40928079\n",
      "Iteration 36, loss = 0.40578799\n",
      "Iteration 37, loss = 0.40127705\n",
      "Iteration 38, loss = 0.39578642\n",
      "Iteration 39, loss = 0.40655125\n",
      "Iteration 40, loss = 0.39161329\n",
      "Iteration 41, loss = 0.38325072\n",
      "Iteration 42, loss = 0.38150786\n",
      "Iteration 43, loss = 0.38266346\n",
      "Iteration 44, loss = 0.38332300\n",
      "Iteration 45, loss = 0.38787500\n",
      "Training loss did not improve more than tol=0.000010 for two consecutive epochs. Stopping.\n",
      "Iteration 1, loss = 0.66712974\n",
      "Iteration 2, loss = 0.55216566\n",
      "Iteration 3, loss = 0.54169538\n",
      "Iteration 4, loss = 0.53396059\n",
      "Iteration 5, loss = 0.52659231\n",
      "Iteration 6, loss = 0.50954112\n",
      "Iteration 7, loss = 0.50066767\n",
      "Iteration 8, loss = 0.48845465\n",
      "Iteration 9, loss = 0.47974114\n",
      "Iteration 10, loss = 0.47011562\n",
      "Iteration 11, loss = 0.46833610\n",
      "Iteration 12, loss = 0.46494025\n",
      "Iteration 13, loss = 0.46901709\n",
      "Iteration 14, loss = 0.46046464\n",
      "Iteration 15, loss = 0.45112562\n",
      "Iteration 16, loss = 0.44716892\n",
      "Iteration 17, loss = 0.44614198\n",
      "Iteration 18, loss = 0.44059267\n",
      "Iteration 19, loss = 0.44502007\n",
      "Iteration 20, loss = 0.43785431\n",
      "Iteration 21, loss = 0.42763876\n",
      "Iteration 22, loss = 0.42350077\n",
      "Iteration 23, loss = 0.42179241\n",
      "Iteration 24, loss = 0.42745343\n",
      "Iteration 25, loss = 0.41862425\n",
      "Iteration 26, loss = 0.41079545\n",
      "Iteration 27, loss = 0.40534524\n",
      "Iteration 28, loss = 0.40221513\n",
      "Iteration 29, loss = 0.39682584\n",
      "Iteration 30, loss = 0.40250440\n",
      "Iteration 31, loss = 0.39454079\n",
      "Iteration 32, loss = 0.39162620\n",
      "Iteration 33, loss = 0.40354721\n",
      "Iteration 34, loss = 0.39059295\n",
      "Iteration 35, loss = 0.38608098\n",
      "Iteration 36, loss = 0.38624918\n",
      "Iteration 37, loss = 0.38085014\n",
      "Iteration 38, loss = 0.38099663\n",
      "Iteration 39, loss = 0.38413037\n",
      "Iteration 40, loss = 0.37232441\n",
      "Iteration 41, loss = 0.37313428\n",
      "Iteration 42, loss = 0.36837464\n",
      "Iteration 43, loss = 0.36524389\n",
      "Iteration 44, loss = 0.36767678\n",
      "Iteration 45, loss = 0.35743523\n",
      "Iteration 46, loss = 0.35416178\n",
      "Iteration 47, loss = 0.35561478\n",
      "Iteration 48, loss = 0.35706263\n",
      "Iteration 49, loss = 0.35291029\n",
      "Iteration 50, loss = 0.36500583\n",
      "Iteration 51, loss = 0.34912989\n",
      "Iteration 52, loss = 0.34634356\n",
      "Iteration 53, loss = 0.34452386\n",
      "Iteration 54, loss = 0.36502590\n",
      "Iteration 55, loss = 0.34820058\n",
      "Iteration 56, loss = 0.33625437\n",
      "Iteration 57, loss = 0.33546321\n",
      "Iteration 58, loss = 0.33776820\n",
      "Iteration 59, loss = 0.33934919\n",
      "Iteration 60, loss = 0.32984083\n",
      "Iteration 61, loss = 0.32854935\n",
      "Iteration 62, loss = 0.32801533\n",
      "Iteration 63, loss = 0.33520134\n",
      "Iteration 64, loss = 0.33720218\n",
      "Iteration 65, loss = 0.33226116\n",
      "Training loss did not improve more than tol=0.000010 for two consecutive epochs. Stopping.\n",
      "Iteration 1, loss = 0.66316941\n",
      "Iteration 2, loss = 0.55625387\n",
      "Iteration 3, loss = 0.54122653\n",
      "Iteration 4, loss = 0.53314790\n",
      "Iteration 5, loss = 0.52172464\n",
      "Iteration 6, loss = 0.51802519\n",
      "Iteration 7, loss = 0.50432878\n",
      "Iteration 8, loss = 0.49910664\n",
      "Iteration 9, loss = 0.48458008\n",
      "Iteration 10, loss = 0.48155533\n",
      "Iteration 11, loss = 0.47164758\n",
      "Iteration 12, loss = 0.46388351\n",
      "Iteration 13, loss = 0.46159896\n",
      "Iteration 14, loss = 0.45579242\n",
      "Iteration 15, loss = 0.44996489\n",
      "Iteration 16, loss = 0.45189962\n",
      "Iteration 17, loss = 0.45412393\n",
      "Iteration 18, loss = 0.44317927\n",
      "Iteration 19, loss = 0.43207788\n",
      "Iteration 20, loss = 0.43076508\n",
      "Iteration 21, loss = 0.43129254\n",
      "Iteration 22, loss = 0.42714902\n",
      "Iteration 23, loss = 0.41979560\n",
      "Iteration 24, loss = 0.41806006\n",
      "Iteration 25, loss = 0.41481335\n",
      "Iteration 26, loss = 0.40633580\n",
      "Iteration 27, loss = 0.40467500\n",
      "Iteration 28, loss = 0.40424101\n",
      "Iteration 29, loss = 0.40459167\n",
      "Iteration 30, loss = 0.39844498\n",
      "Iteration 31, loss = 0.39654256\n",
      "Iteration 32, loss = 0.38889009\n",
      "Iteration 33, loss = 0.38456477\n",
      "Iteration 34, loss = 0.38195330\n",
      "Iteration 35, loss = 0.38013608\n",
      "Iteration 36, loss = 0.37726134\n",
      "Iteration 37, loss = 0.37812897\n",
      "Iteration 38, loss = 0.37373895\n",
      "Iteration 39, loss = 0.36955343\n",
      "Iteration 40, loss = 0.36578394\n",
      "Iteration 41, loss = 0.36780376\n",
      "Iteration 42, loss = 0.36179404\n",
      "Iteration 43, loss = 0.36337730\n",
      "Iteration 44, loss = 0.36561992\n",
      "Iteration 45, loss = 0.36656333\n",
      "Training loss did not improve more than tol=0.000010 for two consecutive epochs. Stopping.\n",
      "Iteration 1, loss = 0.70378749\n",
      "Iteration 2, loss = 0.55807603\n",
      "Iteration 3, loss = 0.54716301\n",
      "Iteration 4, loss = 0.54250818\n",
      "Iteration 5, loss = 0.53058287\n",
      "Iteration 6, loss = 0.52037651\n",
      "Iteration 7, loss = 0.51683249\n",
      "Iteration 8, loss = 0.50051033\n",
      "Iteration 9, loss = 0.49435560\n",
      "Iteration 10, loss = 0.48480587\n",
      "Iteration 11, loss = 0.47543798\n",
      "Iteration 12, loss = 0.47297994\n",
      "Iteration 13, loss = 0.46451393\n",
      "Iteration 14, loss = 0.46070619\n",
      "Iteration 15, loss = 0.45138345\n",
      "Iteration 16, loss = 0.44897241\n",
      "Iteration 17, loss = 0.43926747\n",
      "Iteration 18, loss = 0.43025570\n",
      "Iteration 19, loss = 0.42687127\n",
      "Iteration 20, loss = 0.42942220\n",
      "Iteration 21, loss = 0.43108082\n",
      "Iteration 22, loss = 0.41342062\n",
      "Iteration 23, loss = 0.40968774\n",
      "Iteration 24, loss = 0.41181806\n",
      "Iteration 25, loss = 0.40610047\n",
      "Iteration 26, loss = 0.40077868\n",
      "Iteration 27, loss = 0.39680011\n",
      "Iteration 28, loss = 0.39209520\n",
      "Iteration 29, loss = 0.38595423\n",
      "Iteration 30, loss = 0.38363719\n",
      "Iteration 31, loss = 0.38572013\n",
      "Iteration 32, loss = 0.38008259\n",
      "Iteration 33, loss = 0.37885334\n",
      "Iteration 34, loss = 0.37733603\n",
      "Iteration 35, loss = 0.37044697\n",
      "Iteration 36, loss = 0.36622454\n",
      "Iteration 37, loss = 0.36127105\n",
      "Iteration 38, loss = 0.35346518\n",
      "Iteration 39, loss = 0.35106572\n",
      "Iteration 40, loss = 0.35542776\n",
      "Iteration 41, loss = 0.35354328\n",
      "Iteration 42, loss = 0.34380802\n",
      "Iteration 43, loss = 0.34400332\n",
      "Iteration 44, loss = 0.34905272\n",
      "Iteration 45, loss = 0.35223369\n",
      "Training loss did not improve more than tol=0.000010 for two consecutive epochs. Stopping.\n",
      "Iteration 1, loss = 0.76218491\n",
      "Iteration 2, loss = 0.56067838\n",
      "Iteration 3, loss = 0.54835727\n",
      "Iteration 4, loss = 0.54219517\n",
      "Iteration 5, loss = 0.54133311\n",
      "Iteration 6, loss = 0.53531547\n",
      "Iteration 7, loss = 0.52534205\n",
      "Iteration 8, loss = 0.51759640\n",
      "Iteration 9, loss = 0.51184013\n",
      "Iteration 10, loss = 0.50563400\n",
      "Iteration 11, loss = 0.49680986\n",
      "Iteration 12, loss = 0.48904182\n",
      "Iteration 13, loss = 0.48026715\n",
      "Iteration 14, loss = 0.47945365\n",
      "Iteration 15, loss = 0.47797717\n",
      "Iteration 16, loss = 0.46567669\n",
      "Iteration 17, loss = 0.46704531\n",
      "Iteration 18, loss = 0.45443663\n",
      "Iteration 19, loss = 0.45110705\n",
      "Iteration 20, loss = 0.45044417\n",
      "Iteration 21, loss = 0.43831043\n",
      "Iteration 22, loss = 0.44064483\n",
      "Iteration 23, loss = 0.43287822\n",
      "Iteration 24, loss = 0.42895966\n",
      "Iteration 25, loss = 0.42950298\n",
      "Iteration 26, loss = 0.42266423\n",
      "Iteration 27, loss = 0.41571205\n",
      "Iteration 28, loss = 0.40628540\n",
      "Iteration 29, loss = 0.40377566\n",
      "Iteration 30, loss = 0.40476064\n",
      "Iteration 31, loss = 0.39646621\n",
      "Iteration 32, loss = 0.39793783\n",
      "Iteration 33, loss = 0.40003564\n",
      "Iteration 34, loss = 0.38954095\n",
      "Iteration 35, loss = 0.39590128\n",
      "Iteration 36, loss = 0.39693547\n",
      "Iteration 37, loss = 0.37523144\n",
      "Iteration 38, loss = 0.37797773\n",
      "Iteration 39, loss = 0.38642046\n",
      "Iteration 40, loss = 0.36996567\n",
      "Iteration 41, loss = 0.36866409\n",
      "Iteration 42, loss = 0.37194315\n",
      "Iteration 43, loss = 0.36865393\n",
      "Iteration 44, loss = 0.35922601\n",
      "Iteration 45, loss = 0.35558986\n",
      "Iteration 46, loss = 0.35829937\n"
     ]
    },
    {
     "name": "stdout",
     "output_type": "stream",
     "text": [
      "Iteration 47, loss = 0.35438992\n",
      "Iteration 48, loss = 0.34580684\n",
      "Iteration 49, loss = 0.35849859\n",
      "Iteration 50, loss = 0.35167317\n",
      "Iteration 51, loss = 0.33723722\n",
      "Iteration 52, loss = 0.33981456\n",
      "Iteration 53, loss = 0.33964535\n",
      "Iteration 54, loss = 0.34691387\n",
      "Training loss did not improve more than tol=0.000010 for two consecutive epochs. Stopping.\n"
     ]
    },
    {
     "data": {
      "text/plain": [
       "array([0.75629891, 0.74191606, 0.75240798, 0.75068799, 0.756429  ])"
      ]
     },
     "execution_count": 9,
     "metadata": {},
     "output_type": "execute_result"
    }
   ],
   "source": [
    "cross_val_score(mlpc_st, X_train_small, y_train_small_m, cv=5)"
   ]
  },
  {
   "cell_type": "code",
   "execution_count": 26,
   "metadata": {},
   "outputs": [],
   "source": [
    "import joblib\n",
    "joblib.dump(mlpc_st, os.path.join(os.curdir,'Models', 'model_score_75_method_1.joblib'))\n",
    "mlpc_st_loaded = joblib.load(os.path.join(os.curdir,'Models', 'model_score_75_method_1.joblib'))"
   ]
  },
  {
   "cell_type": "code",
   "execution_count": 27,
   "metadata": {},
   "outputs": [
    {
     "data": {
      "text/plain": [
       "array([0], dtype=int64)"
      ]
     },
     "execution_count": 27,
     "metadata": {},
     "output_type": "execute_result"
    }
   ],
   "source": [
    "mlpc_st_loaded.predict([[i for i in range(221)]])"
   ]
  },
  {
   "cell_type": "markdown",
   "metadata": {},
   "source": [
    "### SVC with scikit-learn"
   ]
  },
  {
   "cell_type": "markdown",
   "metadata": {},
   "source": [
    "To use SVC, we have to scale down the dataset."
   ]
  },
  {
   "cell_type": "code",
   "execution_count": 28,
   "metadata": {},
   "outputs": [
    {
     "name": "stdout",
     "output_type": "stream",
     "text": [
      "831 + 4155 = 4986\n"
     ]
    }
   ],
   "source": [
    "index_0 = y_train.index[y_train[0] == 0].tolist()\n",
    "index_1 = y_train.index[y_train[0] != 0].tolist()\n",
    "\n",
    "index_1_svc = np.random.choice(index_1, math.floor(len(index_1) * 0.02))\n",
    "index_0_svc = np.random.choice(index_0, math.floor(len(index_1_svc) * 5))\n",
    "samples_svc = np.concatenate([index_1_svc, index_0_svc])\n",
    "print(str(len(index_1_svc)) + ' + ' + str(len(index_0_svc)) + ' = ' + str(len(samples_svc)))\n",
    "\n",
    "\n",
    "svc_data = data_pics.iloc[samples_svc, :]\n",
    "svc_target = target_pics.iloc[samples_svc, :]\n",
    "\n",
    "X_train_svc, X_test_svc, y_train_svc, y_test_svc = train_test_split(\n",
    "    svc_data, svc_target, test_size=0.3, random_state=randint(100, 10000))\n",
    "X_train_train_svc, X_vali_svc, y_train_train_svc, y_vali_svc = train_test_split(\n",
    "    X_train_svc, y_train_svc, test_size=0.3, random_state=randint(100, 10000))\n",
    "\n",
    "y_train_svc_m = np.ravel(y_train_svc)\n",
    "y_test_svc_m = np.ravel(y_test_svc)\n",
    "y_train_train_svc_m = np.ravel(y_train_train_svc)\n",
    "y_vali_svc_m = np.ravel(y_vali_svc)"
   ]
  },
  {
   "cell_type": "code",
   "execution_count": null,
   "metadata": {},
   "outputs": [
    {
     "name": "stdout",
     "output_type": "stream",
     "text": [
      "[LibSVM]"
     ]
    }
   ],
   "source": [
    "clf_nf = SVC(C=1.0, gamma='auto', verbose=True)\n",
    "clf_nf.fit(X_train_svc, y_train_svc_m)\n",
    "clf_nf.score(X_test_svc, y_test_svc_m)"
   ]
  },
  {
   "cell_type": "markdown",
   "metadata": {},
   "source": [
    "## 4. Using predictors in game"
   ]
  },
  {
   "cell_type": "markdown",
   "metadata": {},
   "source": [
    "### 4.1 without using survival training"
   ]
  },
  {
   "cell_type": "markdown",
   "metadata": {},
   "source": [
    "There are mainly two parameters that influences the final score of the game.\n",
    "\n",
    "1. The total number of fires\n",
    "2. The total number of movements (which is proportional to the length of the game, because for each frame, the fighter moves one step. The steps include not moving.)\n",
    "\n",
    "The score is definitely proportional to the number of fires and the number of movements.\n",
    "\n",
    "Score (S) $\\propto$ Fires (F), $\\propto$ Movs (M)\n",
    "\n",
    "1. One thing about number of fires, because the training stage the number of fires are set, however in the predicting game stage the number of fires are random. So to eliminate the effect of number of fires on the performance, the best way to check the performance of the game, is to calculate the score-f-m ratio\n",
    "\n",
    "$$R_{fm} = \\frac{S}{F \\times M}$$\n",
    "\n",
    "    Higher score-f-m ratio means better performance.\n",
    "\n",
    "2. The second method is the score-f ratio, or so-called Hit Rate\n",
    "\n",
    "$$R_{f} = \\frac{S}{F}$$\n",
    "\n",
    "    Higher score-f ratio means higher hit rate."
   ]
  },
  {
   "cell_type": "markdown",
   "metadata": {},
   "source": [
    "<p style=\"text-align: center;\">**enemy frequency: 1 / 1**</p>"
   ]
  },
  {
   "attachments": {},
   "cell_type": "markdown",
   "metadata": {},
   "source": [
    "Before Score training (6 test runs):\n",
    "\n",
    "|                    |    1    |    2    |    3    |    4    |    5    |    6    |Average|\n",
    "|--------------------|--------:|--------:|--------:|--------:|--------:|--------:|---:|\n",
    "|Lives Consumed      | 2950.000| 2836.000| 2704.000| 2526.000| 2677.000| 2758.000|2741.83\n",
    "|Score               | 1586.000| 1505.000| 1496.000| 1317.000| 1413.000| 1560.000|1479.5\n",
    "|Fires               | 3652.000| 3743.000| 3851.000| 3709.000| 3653.000| 3762.000|3728.33\n",
    "|Moves               |15001.000|15001.000|15001.000|15001.000|15001.000|15001.000|15001\n",
    "|Ratio(Lives / Mov)  |    0.197|    0.189|    0.180|    0.168|    0.178|    0.184|0.1827\n",
    "|Ratio(Score / Mov)  |    0.106|    0.100|    0.100|    0.088|    0.094|    0.104|0.0987\n",
    "|Ratio(Score / Fires)|    0.434|    0.402|    0.388|    0.355|    0.387|    0.415|0.3968\n",
    "|Ratio(Score/F/M, %) |  0.00289|\t0.00268|\t0.00259|\t0.00237|\t0.00258|\t0.00277|0.002647\n",
    "\n",
    "After score training (5 test runs):\n",
    "\n",
    "|                    |    1     |    2     |    3     |    4     |    5     |Average|\n",
    "|--------------------|---------:|---------:|---------:|---------:|---------:|---:|\n",
    "|Lives Consumed      | 1772.0000| 1743.0000| 1970.0000| 1800.0000| 1759.0000|1808.8\n",
    "|Score               | 1415.0000| 1425.0000| 1565.0000| 1529.0000| 1471.0000|1481\n",
    "|Fires               | 2780.0000| 3017.0000| 3281.0000| 3199.0000| 2909.0000|3037.2\n",
    "|Moves               |12001.0000|12001.0000|12001.0000|12001.0000|12001.0000|12001\n",
    "|Ratio(Lives / Mov)  |    0.1477|    0.1452|    0.1642|    0.1500|    0.1466|0.15074\n",
    "|Ratio(Score / Mov)  |    0.1179|    0.1187|    0.1304|    0.1274|    0.1226|0.1234\n",
    "|Ratio(Score / Fires)|    0.5090|    0.4723|    0.4770|    0.4780|    0.5057|0.4884\n",
    "|Ratio(Score/F/M, %) |    0.0042|    0.0039|    0.0040|    0.0040|    0.0042|0.00406"
   ]
  },
  {
   "cell_type": "markdown",
   "metadata": {},
   "source": [
    "**Observation:** On average the $R_{fm}$ increases 40%, $R_{f}$ increases 20%."
   ]
  },
  {
   "cell_type": "markdown",
   "metadata": {},
   "source": [
    "<p style=\"text-align: center;\">**enemy frequency: 1 / 4**</p>"
   ]
  },
  {
   "attachments": {},
   "cell_type": "markdown",
   "metadata": {},
   "source": [
    "Before Score training (5 test runs):\n",
    "\n",
    "|                    |    1     |    2     |    3    |    4    |    5     |Average|\n",
    "|--------------------|---------:|---------:|--------:|--------:|---------:|---:|\n",
    "|Lives Consumed      |  492.0000|  444.0000|  544.000|  557.000|  555.0000|518.4\n",
    "|Score               |  291.0000|  289.0000|  319.000|  330.000|  294.0000|304.6\n",
    "|Fires               | 3056.0000| 2980.0000| 3044.000| 3044.000| 3054.0000|3035.6\n",
    "|Moves               |12001.0000|12001.0000|12001.000|12001.000|12001.0000|12001\n",
    "|Ratio(Lives / Mov)  |    0.0410|    0.0370|    0.045|    0.046|    0.0462|0.04304\n",
    "|Ratio(Score / Mov)  |    0.0242|    0.0241|    0.027|    0.027|    0.0245|0.02536\n",
    "|Ratio(Score / Fires)|    0.0952|    0.0970|    0.105|    0.108|    0.0963|0.1003\n",
    "|Ratio(Score/F/M, %) | 0.000793|\t0.000808|\t0.000875|\t0.0009|\t0.000802|0.0008356\n",
    "\n",
    "After score training (5 test runs):\n",
    "\n",
    "|                    |    1     |    2     |    3     |    4     |    5     |Average|\n",
    "|--------------------|---------:|---------:|---------:|---------:|---------:|---:|\n",
    "|Lives Consumed      |  469.0000|  429.0000|  373.0000|  400.0000|  425.0000|419.2\n",
    "|Score               |  377.0000|  363.0000|  357.0000|  349.0000|  366.0000|362.4\n",
    "|Fires               | 2041.0000| 1803.0000| 1549.0000| 1844.0000| 2331.0000|1913.6\n",
    "|Moves               |12001.0000|12001.0000|12001.0000|12001.0000|12001.0000|12001\n",
    "|Ratio(Lives / Mov)  |    0.0391|    0.0357|    0.0311|    0.0333|    0.0354|0.03492\n",
    "|Ratio(Score / Mov)  |    0.0314|    0.0302|    0.0297|    0.0291|    0.0305|0.03018\n",
    "|Ratio(Score / Fires)|    0.1847|    0.2013|    0.2305|    0.1893|    0.1570|0.19256\n",
    "|Ratio(Score/F/M, %) |    0.0015|    0.0017|    0.0019|    0.0016|    0.0013|0.0016\n",
    "\n"
   ]
  },
  {
   "cell_type": "markdown",
   "metadata": {},
   "source": [
    "**Observation:** On average the $R_{fm}$ increases 80%~100%, $R_{f}$ increases ~90%."
   ]
  },
  {
   "cell_type": "markdown",
   "metadata": {},
   "source": [
    "<p style=\"text-align: center;\">**enemy frequency: 1 / 8**</p>"
   ]
  },
  {
   "attachments": {},
   "cell_type": "markdown",
   "metadata": {},
   "source": [
    "Before Score training (5 test runs):\n",
    "\n",
    "|                    |    1     |    2     |    3     |    4     |    5     |Average|\n",
    "|--------------------|---------:|---------:|---------:|---------:|---------:|---:|\n",
    "|Lives Consumed      |  186.0000|  272.0000|  293.0000|  294.0000|  282.0000|265.4\n",
    "|Score               |  124.0000|  188.0000|  146.0000|  172.0000|  167.0000|159.4\n",
    "|Fires               | 3071.0000| 2874.0000| 2966.0000| 2936.0000| 2988.0000|2967\n",
    "|Moves               |12001.0000|12001.0000|12001.0000|12001.0000|12001.0000|12001\n",
    "|Ratio(Lives / Mov)  |    0.0155|    0.0227|    0.0244|    0.0245|    0.0235|0.02212\n",
    "|Ratio(Score / Mov)  |    0.0103|    0.0157|    0.0122|    0.0143|    0.0139|0.01328\n",
    "|Ratio(Score / Fires)|    0.0404|    0.0654|    0.0492|    0.0586|    0.0559|0.0539\n",
    "|Ratio(Score/F/M, %) |0.000337|\t0.000545|\t0.000410|\t0.000488|\t0.000466|0.0004492\n",
    "\n",
    "After score training (5 test runs):\n",
    "\n",
    "|                    |    1     |    2     |    3     |    4     |    5     |Average|\n",
    "|--------------------|---------:|---------:|---------:|---------:|---------:|---:|\n",
    "|Lives Consumed      |  197.0000|  237.0000|  219.0000|  186.0000|  215.0000|210.8\n",
    "|Score               |  171.0000|  180.0000|  198.0000|  176.0000|  182.0000|181.4\n",
    "|Fires               | 1341.0000| 1585.0000| 2299.0000| 1314.0000| 1828.0000|1673.4\n",
    "|Moves               |12001.0000|12001.0000|12001.0000|12001.0000|12001.0000|12001\n",
    "|Ratio(Lives / Mov)  |    0.0164|    0.0197|    0.0182|    0.0155|    0.0179|0.01754\n",
    "|Ratio(Score / Mov)  |    0.0142|    0.0150|    0.0165|    0.0147|    0.0152|0.01512\n",
    "|Ratio(Score / Fires)|    0.1275|    0.1136|    0.0861|    0.1339|    0.0996|0.11214\n",
    "|Ratio(Score/F/M, %) |    0.0011|    0.0009|    0.0007|    0.0011|    0.0008|0.00092\n"
   ]
  },
  {
   "cell_type": "markdown",
   "metadata": {},
   "source": [
    "**Observation:** On average the $R_{fm}$ increases > 100%, $R_{f}$ increases > 100%."
   ]
  },
  {
   "cell_type": "markdown",
   "metadata": {},
   "source": [
    "### 4.2 Using survival training"
   ]
  },
  {
   "cell_type": "markdown",
   "metadata": {},
   "source": [
    "<p style=\"text-align: center;\">**enemy frequency: 1 / 1**</p>"
   ]
  },
  {
   "attachments": {},
   "cell_type": "markdown",
   "metadata": {},
   "source": [
    "Before Score training:\n",
    "\n",
    "|                    |    1     |    2     |    3     |    4     |    5     |Average|\n",
    "|--------------------|---------:|---------:|---------:|---------:|---------:|---:|\n",
    "|Lives Consumed      | 1729.0000| 1675.0000| 1777.0000| 1802.0000| 1588.0000|1714.2\n",
    "|Score               | 1306.0000| 1298.0000| 1325.0000| 1316.0000| 1307.0000|1310.4\n",
    "|Fires               | 2920.0000| 2952.0000| 2936.0000| 3005.0000| 2983.0000|2959.2\n",
    "|Moves               |12001.0000|12001.0000|12001.0000|12001.0000|12001.0000|12001\n",
    "|Ratio(Lives / Mov)  |    0.1441|    0.1396|    0.1481|    0.1502|    0.1323|0.14286\n",
    "|Ratio(Score / Mov)  |    0.1088|    0.1082|    0.1104|    0.1097|    0.1089|0.1092\n",
    "|Ratio(Score / Fires)|    0.4473|    0.4397|    0.4513|    0.4379|    0.4381|0.44286\n",
    "|Ratio(Score/F/M, %) |    0.0037|    0.0037|    0.0038|    0.0036|    0.0037|0.0037\n",
    "\n",
    "After score training:\n",
    "\n",
    "|                    |    1     |    2     |    3     |    4     |    5     | Average|\n",
    "|--------------------|---------:|---------:|---------:|---------:|---------:|---:|\n",
    "|Lives Consumed      | 1309.0000| 1261.0000| 1374.0000| 1375.0000| 1317.0000|1327.2|\n",
    "|Score               | 1405.0000| 1372.0000| 1370.0000| 1433.0000| 1444.0000|1404.8|\n",
    "|Fires               | 3300.0000| 3341.0000| 3262.0000| 3339.0000| 3342.0000|3316.8|\n",
    "|Moves               |12001.0000|12001.0000|12001.0000|12001.0000|12001.0000|12001|\n",
    "|Ratio(Lives / Mov)  |    0.1091|    0.1051|    0.1145|    0.1146|    0.1097|0.1106|\n",
    "|Ratio(Score / Mov)  |    0.1171|    0.1143|    0.1142|    0.1194|    0.1203|0.11706|\n",
    "|Ratio(Score / Fires)|    0.4258|    0.4107|    0.4200|    0.4292|    0.4321|0.42356|\n",
    "|Ratio(Score/F/M, %) |    0.0035|    0.0034|    0.0035|    0.0036|    0.0036|0.00352|"
   ]
  },
  {
   "cell_type": "markdown",
   "metadata": {},
   "source": [
    "**Observation:** The improvements during survival training at high enemey frequency is low, because there is too many enemies. The stragety is forced to shoot fires constantly. And even the new stragety actually has worse performance than randomly shooting fires. But lives consumed is still lower."
   ]
  },
  {
   "cell_type": "markdown",
   "metadata": {},
   "source": [
    "<p style=\"text-align: center;\">**enemy frequency: 1 / 4**</p>"
   ]
  },
  {
   "attachments": {},
   "cell_type": "markdown",
   "metadata": {},
   "source": [
    "Before Score training:\n",
    "\n",
    "|                    |    1     |    2     |    3     |    4     |    5     | average  |\n",
    "|--------------------|---------:|---------:|---------:|---------:|---------:|---------:|\n",
    "|Lives Consumed      |  261.0000|  288.0000|  233.0000|  260.0000|  266.0000|  261.6000|\n",
    "|Score               |  342.0000|  353.0000|  323.0000|  340.0000|  336.0000|  338.8000|\n",
    "|Fires               | 3036.0000| 3047.0000| 3054.0000| 2967.0000| 3056.0000| 3032.0000|\n",
    "|Moves               |12001.0000|12001.0000|12001.0000|12001.0000|12001.0000|12001.0000|\n",
    "|Ratio(Lives / Mov)  |    0.0217|    0.0240|    0.0194|    0.0217|    0.0222|    0.0218|\n",
    "|Ratio(Score / Mov)  |    0.0285|    0.0294|    0.0269|    0.0283|    0.0280|    0.0282|\n",
    "|Ratio(Score / Fires)|    0.1126|    0.1159|    0.1058|    0.1146|    0.1099|    0.1118|\n",
    "|Ratio(Score/F/M, %) |    0.0009|    0.0010|    0.0009|    0.0010|    0.0009|    0.0009|\n",
    "\n",
    "After score training:\n",
    "\n",
    "|                    |    1     |    2     |    3     |    4     |    5     | Average|\n",
    "|--------------------|---------:|---------:|---------:|---------:|---------:| -------:|\n",
    "|Lives Consumed      |  213.0000|  255.0000|  211.0000|  227.0000|  195.0000|220.2|\n",
    "|Score               |  347.0000|  395.0000|  358.0000|  389.0000|  365.0000|370.8|\n",
    "|Fires               | 2742.0000| 2700.0000| 2762.0000| 2687.0000| 2735.0000|2725.2|\n",
    "|Moves               |12001.0000|12001.0000|12001.0000|12001.0000|12001.0000|12001|\n",
    "|Ratio(Lives / Mov)  |    0.0177|    0.0212|    0.0176|    0.0189|    0.0162|0.01832|\n",
    "|Ratio(Score / Mov)  |    0.0289|    0.0329|    0.0298|    0.0324|    0.0304|0.03088|\n",
    "|Ratio(Score / Fires)|    0.1265|    0.1463|    0.1296|    0.1448|    0.1335|0.13614|\n",
    "|Ratio(Score/F/M, %) |    0.0011|    0.0012|    0.0011|    0.0012|    0.0011|0.00114|\n"
   ]
  },
  {
   "cell_type": "markdown",
   "metadata": {},
   "source": [
    "**Observation:** On average the $R_{fm}$ increases only 10%, $R_{f}$ increases 30%. The resason is probably beause there arestill too many enemies. Further decreasing the enemy amounts might increase the performance."
   ]
  },
  {
   "cell_type": "markdown",
   "metadata": {},
   "source": [
    "<p style=\"text-align: center;\">**enemy frequency: 1 / 8**</p>"
   ]
  },
  {
   "cell_type": "markdown",
   "metadata": {},
   "source": [
    "Before Score training:\n",
    "\n",
    "|                    |    1     |    2     |    3     |    4     |    5     | average  |\n",
    "|--------------------|---------:|---------:|---------:|---------:|---------:|---------:|\n",
    "|Lives Consumed      |  147.0000|  123.0000|  145.0000|  104.0000|  110.0000|  125.8000|\n",
    "|Score               |  169.0000|  175.0000|  171.0000|  173.0000|  160.0000|  169.6000|\n",
    "|Fires               | 2985.0000| 2993.0000| 2969.0000| 3075.0000| 3005.0000| 3005.4000|\n",
    "|Moves               |12001.0000|12001.0000|12001.0000|12001.0000|12001.0000|12001.0000|\n",
    "|Ratio(Lives / Mov)  |    0.0122|    0.0102|    0.0121|    0.0087|    0.0092|    0.0105|\n",
    "|Ratio(Score / Mov)  |    0.0141|    0.0146|    0.0142|    0.0144|    0.0133|    0.0141|\n",
    "|Ratio(Score / Fires)|    0.0566|    0.0585|    0.0576|    0.0563|    0.0532|    0.0564|\n",
    "|Ratio(Score/F/M, %) |    0.0005|    0.0005|    0.0005|    0.0005|    0.0004|    0.0005|\n",
    "\n",
    "After score training:\n",
    "\n",
    "|                    |    1     |    2     |    3     |    4     |    5     |  average  |\n",
    "|--------------------|---------:|---------:|---------:|---------:|---------:|----------:|\n",
    "|Lives Consumed      |  104.0000|  116.0000|   95.0000|  107.0000|  105.0000|  105.40000|\n",
    "|Score               |  173.0000|  188.0000|  199.0000|  188.0000|  178.0000|  185.20000|\n",
    "|Fires               | 2413.0000| 2317.0000| 2452.0000| 2513.0000| 2564.0000| 2451.80000|\n",
    "|Moves               |12001.0000|12001.0000|12001.0000|12001.0000|12001.0000|12001.00000|\n",
    "|Ratio(Lives / Mov)  |    0.0087|    0.0097|    0.0079|    0.0089|    0.0087|    0.00878|\n",
    "|Ratio(Score / Mov)  |    0.0144|    0.0157|    0.0166|    0.0157|    0.0148|    0.01543|\n",
    "|Ratio(Score / Fires)|    0.0717|    0.0811|    0.0812|    0.0748|    0.0694|    0.07565|\n",
    "|Ratio(Score/F/M, %) |    0.0006|    0.0007|    0.0007|    0.0006|    0.0006|    0.00063|\n"
   ]
  },
  {
   "cell_type": "markdown",
   "metadata": {},
   "source": [
    "**Observation:** On average the $R_{fm}$ still increases only 20%, $R_{f}$ increases 40%. The combination of two strategies doesn't work too well."
   ]
  },
  {
   "cell_type": "code",
   "execution_count": null,
   "metadata": {},
   "outputs": [],
   "source": []
  }
 ],
 "metadata": {
  "kernelspec": {
   "display_name": "Python 3",
   "language": "python",
   "name": "python3"
  },
  "language_info": {
   "codemirror_mode": {
    "name": "ipython",
    "version": 3
   },
   "file_extension": ".py",
   "mimetype": "text/x-python",
   "name": "python",
   "nbconvert_exporter": "python",
   "pygments_lexer": "ipython3",
   "version": "3.6.2rc1"
  }
 },
 "nbformat": 4,
 "nbformat_minor": 2
}
