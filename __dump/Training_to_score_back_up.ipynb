{
 "cells": [
  {
   "cell_type": "markdown",
   "metadata": {},
   "source": [
    "## 1. Import All Packages"
   ]
  },
  {
   "cell_type": "code",
   "execution_count": 17,
   "metadata": {},
   "outputs": [
    {
     "name": "stdout",
     "output_type": "stream",
     "text": [
      "Wall time: 0 ns\n"
     ]
    }
   ],
   "source": [
    "%%time\n",
    "import numpy as np\n",
    "import math\n",
    "import pandas as pd\n",
    "import pickle, os, math\n",
    "from keras.models import Sequential\n",
    "from keras.callbacks import Callback\n",
    "from keras.layers import Dense\n",
    "import tensorflow as tf\n",
    "from sklearn.model_selection import train_test_split\n",
    "from sklearn.metrics import confusion_matrix, f1_score, precision_score, recall_score\n",
    "from sklearn.svm import SVC\n",
    "from sklearn.neural_network import MLPClassifier\n",
    "from sklearn.model_selection import cross_val_score\n",
    "from tqdm import tqdm\n",
    "from random import randint"
   ]
  },
  {
   "cell_type": "markdown",
   "metadata": {},
   "source": [
    "## 2. Read data"
   ]
  },
  {
   "cell_type": "code",
   "execution_count": 111,
   "metadata": {},
   "outputs": [
    {
     "name": "stdout",
     "output_type": "stream",
     "text": [
      "(400001, 162)\n",
      "Wall time: 1.06 s\n"
     ]
    }
   ],
   "source": [
    "%%time\n",
    "data_dir = os.path.join(os.curdir, 'Data', 'Score', 'data_pics.pkl')\n",
    "with open(data_dir, 'rb') as in_file:\n",
    "    ot = pickle.load(in_file)\n",
    "data_pics = ot['data']\n",
    "target_pics = ot['target']\n",
    "print(data_pics.shape)"
   ]
  },
  {
   "cell_type": "markdown",
   "metadata": {},
   "source": [
    "As in the case of survival training, score training also has unbalanced class, the ratio of class 0 to 1 is almost 14:1."
   ]
  },
  {
   "cell_type": "code",
   "execution_count": 154,
   "metadata": {},
   "outputs": [
    {
     "name": "stdout",
     "output_type": "stream",
     "text": [
      "(360000, 162)\n",
      "class 0 has 335342 points\n",
      "class 1 has 24658 points\n"
     ]
    }
   ],
   "source": [
    "X_train, X_test, y_train, y_test = train_test_split(\n",
    "    data_pics, target_pics, test_size=0.1, random_state=152)\n",
    "print(X_train.shape)\n",
    "X_train_train, X_vali, y_train_train, y_vali = train_test_split(\n",
    "    X_train, y_train, test_size=0.3, random_state=15545)\n",
    "print('class 0 has ' + str(len(y_train.index[y_train[0] == 0].tolist())) + ' points')\n",
    "print('class 1 has ' + str(len(y_train.index[y_train[0] == 1].tolist())) + ' points')"
   ]
  },
  {
   "cell_type": "markdown",
   "metadata": {},
   "source": [
    "To create a balanced dataset, use all class 1 and randomly select the same of number class 0 data."
   ]
  },
  {
   "cell_type": "code",
   "execution_count": 113,
   "metadata": {},
   "outputs": [
    {
     "name": "stdout",
     "output_type": "stream",
     "text": [
      "24658 + 24658 = 49316\n"
     ]
    }
   ],
   "source": [
    "index_0 = y_train.index[y_train[0] == 0].tolist()\n",
    "index_1 = y_train.index[y_train[0] != 0].tolist()\n",
    "index_0_comparable_to_1 = np.random.choice(index_0, math.floor(len(index_1) * 1))\n",
    "samples = np.concatenate([index_1, index_0_comparable_to_1])\n",
    "print(str(len(index_1)) + ' + ' + str(len(index_0_comparable_to_1)) + ' = ' + str(len(samples)))"
   ]
  },
  {
   "cell_type": "code",
   "execution_count": 114,
   "metadata": {},
   "outputs": [],
   "source": [
    "small_data = new_data_df.iloc[samples, :]\n",
    "small_target = target_pics.iloc[samples, :]\n",
    "\n",
    "X_train_small, X_test_small, y_train_small, y_test_small = train_test_split(\n",
    "    small_data, small_target, test_size=0.3, random_state=1152)\n",
    "X_train_train_small, X_vali_small, y_train_train_small, y_vali_small = train_test_split(\n",
    "    X_train_small, y_train_small, test_size=0.3, random_state=8155)"
   ]
  },
  {
   "cell_type": "markdown",
   "metadata": {},
   "source": [
    "Ravelling the target data."
   ]
  },
  {
   "cell_type": "code",
   "execution_count": 115,
   "metadata": {},
   "outputs": [],
   "source": [
    "y_train_small_m = np.ravel(y_train_small)\n",
    "y_test_small_m = np.ravel(y_test_small)\n",
    "y_train_train_small_m = np.ravel(y_train_train_small)\n",
    "y_vali_small_m = np.ravel(y_vali_small)\n",
    "y_train_m = np.ravel(y_train)\n",
    "y_test_m = np.ravel(y_test)\n",
    "y_train_train_m = np.ravel(y_train_train)\n",
    "y_vali_m = np.ravel(y_vali)"
   ]
  },
  {
   "cell_type": "markdown",
   "metadata": {},
   "source": [
    "## 3. Training"
   ]
  },
  {
   "cell_type": "markdown",
   "metadata": {},
   "source": [
    "### Support Vector Classification"
   ]
  },
  {
   "cell_type": "code",
   "execution_count": 116,
   "metadata": {},
   "outputs": [
    {
     "name": "stdout",
     "output_type": "stream",
     "text": [
      "[LibSVM]"
     ]
    },
    {
     "data": {
      "text/plain": [
       "0.5237580263602568"
      ]
     },
     "execution_count": 116,
     "metadata": {},
     "output_type": "execute_result"
    }
   ],
   "source": [
    "clf_sc = SVC(C=10.0, gamma='auto', kernel='rbf', verbose=True)\n",
    "clf_sc.fit(X_train_small, y_train_small_m)\n",
    "clf_sc.score(X_test_small, y_test_small_m)"
   ]
  },
  {
   "cell_type": "code",
   "execution_count": 117,
   "metadata": {},
   "outputs": [
    {
     "name": "stdout",
     "output_type": "stream",
     "text": [
      "0.9539033457249071\n"
     ]
    }
   ],
   "source": [
    "ypred = clf_sc.predict(X_test_small)\n",
    "print(sum(ypred) / len(ypred))\n",
    "test = [idd for idd, value in enumerate(ypred) if value == 0 ]"
   ]
  },
  {
   "cell_type": "markdown",
   "metadata": {},
   "source": [
    "### Multi Layer Perceptor Classifier\n",
    "\n",
    "MLPC apparently failed at generalizing the inner trend, all the predictions turne out to be all 0 or all 1."
   ]
  },
  {
   "cell_type": "code",
   "execution_count": 127,
   "metadata": {},
   "outputs": [
    {
     "name": "stdout",
     "output_type": "stream",
     "text": [
      "Iteration 1, loss = 5.89562739\n",
      "Iteration 2, loss = 0.75283252\n",
      "Iteration 3, loss = 0.71505717\n",
      "Iteration 4, loss = 0.71154901\n",
      "Iteration 5, loss = 0.71145618\n",
      "Iteration 6, loss = 0.71114702\n",
      "Iteration 7, loss = 0.71182472\n",
      "Iteration 8, loss = 0.71251703\n",
      "Iteration 9, loss = 0.71233927\n",
      "Training loss did not improve more than tol=0.000010 for two consecutive epochs. Stopping.\n"
     ]
    },
    {
     "data": {
      "text/plain": [
       "0.5042244001351808"
      ]
     },
     "execution_count": 127,
     "metadata": {},
     "output_type": "execute_result"
    }
   ],
   "source": [
    "mlpc_sc = MLPClassifier(hidden_layer_sizes=(100, 50, 40, 20),\n",
    "                        alpha=0.15, max_iter=1000, batch_size=1000,\n",
    "                        verbose=True, learning_rate_init=0.01, tol=1e-5,\n",
    "                        learning_rate='adaptive')\n",
    "\n",
    "mlpc_sc.fit(X_train_small, y_train_small_m)\n",
    "mlpc_sc.score(X_test_small, y_test_small_m)"
   ]
  },
  {
   "cell_type": "code",
   "execution_count": 128,
   "metadata": {
    "scrolled": true
   },
   "outputs": [
    {
     "data": {
      "text/plain": [
       "0.6161541061169314"
      ]
     },
     "execution_count": 128,
     "metadata": {},
     "output_type": "execute_result"
    }
   ],
   "source": [
    "ypred = mlpc_sc.predict(X_test_small)\n",
    "sum(ypred) / len(ypred)"
   ]
  },
  {
   "cell_type": "markdown",
   "metadata": {},
   "source": [
    "## 4. Training Results"
   ]
  },
  {
   "cell_type": "markdown",
   "metadata": {},
   "source": [
    "Apparently the score is really low.\n",
    "\n",
    "Try to clip the data to reduce the number of freedom to avoid over fitting"
   ]
  },
  {
   "cell_type": "code",
   "execution_count": 129,
   "metadata": {},
   "outputs": [
    {
     "data": {
      "text/plain": [
       "(49316, 162)"
      ]
     },
     "execution_count": 129,
     "metadata": {},
     "output_type": "execute_result"
    }
   ],
   "source": [
    "small_data.shape"
   ]
  },
  {
   "cell_type": "code",
   "execution_count": 134,
   "metadata": {},
   "outputs": [
    {
     "data": {
      "text/plain": [
       "72"
      ]
     },
     "execution_count": 134,
     "metadata": {},
     "output_type": "execute_result"
    }
   ],
   "source": [
    "np.max(small_data.iloc[:, 161])"
   ]
  },
  {
   "cell_type": "code",
   "execution_count": 145,
   "metadata": {},
   "outputs": [
    {
     "name": "stderr",
     "output_type": "stream",
     "text": [
      "100%|███████████████████████████████████| 49316/49316 [01:29<00:00, 551.73it/s]\n"
     ]
    },
    {
     "name": "stdout",
     "output_type": "stream",
     "text": [
      "Wall time: 1min 29s\n"
     ]
    }
   ],
   "source": [
    "%%time\n",
    "new_data = []\n",
    "window_size = 5\n",
    "for i in tqdm(range(small_data.shape[0])):\n",
    "    left = int(small_data.iloc[i, 161] - window_size)\n",
    "    right = int(small_data.iloc[i, 161] + window_size)\n",
    "    new_data.append(small_data.iloc[i, (2 * left):(2 * right + 2)].values.tolist() + small_data.iloc[i, 160:].values.tolist())\n",
    "new_data_df = pd.DataFrame(new_data)"
   ]
  },
  {
   "cell_type": "code",
   "execution_count": 146,
   "metadata": {},
   "outputs": [
    {
     "data": {
      "text/plain": [
       "(49316, 24)"
      ]
     },
     "execution_count": 146,
     "metadata": {},
     "output_type": "execute_result"
    }
   ],
   "source": [
    "new_data_df.shape"
   ]
  },
  {
   "cell_type": "code",
   "execution_count": 152,
   "metadata": {},
   "outputs": [],
   "source": [
    "left_ind = 2 * (small_data.iloc[:, 161] - window_size)\n",
    "right_ind = 2 * (small_data.iloc[:, 161] + window_size) + 2"
   ]
  },
  {
   "cell_type": "code",
   "execution_count": 155,
   "metadata": {},
   "outputs": [
    {
     "data": {
      "text/plain": [
       "(49316, 162)"
      ]
     },
     "execution_count": 155,
     "metadata": {},
     "output_type": "execute_result"
    }
   ],
   "source": [
    "small_data.shape"
   ]
  },
  {
   "cell_type": "code",
   "execution_count": 157,
   "metadata": {},
   "outputs": [],
   "source": [
    "new_data_df\n",
    "\n",
    "X_train_small_short, X_test_small_short, y_train_small_short, y_test_small_short = train_test_split(\n",
    "    new_data_df, small_target, test_size=0.3, random_state=1152)\n",
    "X_train_train_small_short, X_vali_small_short, y_train_train_small_short, y_vali_small_short = train_test_split(\n",
    "    X_train_small_short, y_train_small_short, test_size=0.3, random_state=8155)\n",
    "\n",
    "y_train_small_short_m = np.ravel(y_train_small_short)\n",
    "y_test_small_short_m = np.ravel(y_test_small_short)\n",
    "y_train_train_small_short_m = np.ravel(y_train_train_small_short)\n",
    "y_vali_small_short_m = np.ravel(y_vali_small_short)"
   ]
  },
  {
   "cell_type": "code",
   "execution_count": 158,
   "metadata": {},
   "outputs": [
    {
     "name": "stdout",
     "output_type": "stream",
     "text": [
      "[LibSVM]"
     ]
    },
    {
     "data": {
      "text/plain": [
       "0.5891855356539372"
      ]
     },
     "execution_count": 158,
     "metadata": {},
     "output_type": "execute_result"
    }
   ],
   "source": [
    "clf_sc_short = SVC(C=10.0, gamma='auto', kernel='rbf', verbose=True)\n",
    "clf_sc_short.fit(X_train_small_short, y_train_small_short_m)\n",
    "clf_sc_short.score(X_test_small_short, y_test_small_short_m)"
   ]
  },
  {
   "cell_type": "markdown",
   "metadata": {},
   "source": [
    "## 5. Basic"
   ]
  },
  {
   "cell_type": "markdown",
   "metadata": {},
   "source": [
    "Including three datasets, the average accuracy can be 68% ~ 69%\n",
    "\n",
    "Including only 68%, the avearge accuracy is 68% ~ 69%\n",
    "\n",
    "Including 68% (2 freq) and 8 freq, acc: array([0.68019124, 0.7070681 , 0.70078842, 0.70259791, 0.7028564 ])\n",
    "\n",
    "Including 68% and 4 freq, acc: array([0.67455247, 0.65475605, 0.67181467, 0.65637066, 0.67401531])\n",
    "\n",
    "Including 8 freq and 4 freq: array([0.57640449, 0.59867211, 0.60010215, 0.58804903, 0.63019716])\n",
    "\n",
    "Including 1 freq (fires1), and 68% and 8 freq: array([0.74909654, 0.75905688, 0.76051975, 0.77342742, 0.73924269]) "
   ]
  },
  {
   "cell_type": "code",
   "execution_count": 103,
   "metadata": {},
   "outputs": [
    {
     "name": "stdout",
     "output_type": "stream",
     "text": [
      "(90029, 221)\n",
      "(41569, 221)\n",
      "(599671, 221)\n",
      "(731269, 221)\n",
      "Wall time: 13.1 s\n"
     ]
    }
   ],
   "source": [
    "%%time\n",
    "\n",
    "data_dir = os.path.join(os.curdir, 'Data', 'Score', '400000_68per', 'data_basic.pkl')\n",
    "with open(data_dir, 'rb') as in_file:\n",
    "    ot = pickle.load(in_file)\n",
    "data_pics_0 = ot['data']\n",
    "target_pics_0 = ot['target']\n",
    "print(data_pics_0.shape)\n",
    "\n",
    "data_dir = os.path.join(os.curdir, 'Data', 'Score', '800000_4freq', 'data_basic.pkl')\n",
    "with open(data_dir, 'rb') as in_file:\n",
    "    ot = pickle.load(in_file)\n",
    "data_pics_1 = ot['data']\n",
    "target_pics_1 = ot['target']\n",
    "\n",
    "data_dir = os.path.join(os.curdir, 'Data', 'Score', '400000_1freq_fires4', 'data_basic.pkl')\n",
    "with open(data_dir, 'rb') as in_file:\n",
    "    ot = pickle.load(in_file)\n",
    "data_pics_2 = ot['data']\n",
    "target_pics_2 = ot['target']\n",
    "\n",
    "data_dir = os.path.join(os.curdir, 'Data', 'Score', '400000_1freq_fires1', 'data_basic.pkl')\n",
    "with open(data_dir, 'rb') as in_file:\n",
    "    ot = pickle.load(in_file)\n",
    "data_pics_3 = ot['data']\n",
    "target_pics_3 = ot['target']\n",
    "print(data_pics_3.shape)\n",
    "\n",
    "\n",
    "data_dir = os.path.join(os.curdir, 'Data', 'Score', '800000_8freq', 'data_basic.pkl')\n",
    "with open(data_dir, 'rb') as in_file:\n",
    "    ot = pickle.load(in_file)\n",
    "data_pics = ot['data']\n",
    "target_pics = ot['target']\n",
    "print(data_pics.shape)\n",
    "\n",
    "'''\n",
    "data_pics = data_pics.append(data_pics_0)\n",
    "target_pics = target_pics.append(target_pics_0)\n",
    "'''\n",
    "\n",
    "'''\n",
    "data_pics = data_pics.append(data_pics_1)\n",
    "target_pics = target_pics.append(target_pics_1)\n",
    "\n",
    "data_pics = data_pics.append(data_pics_1)\n",
    "target_pics = target_pics.append(target_pics_1)\n",
    "'''\n",
    "\n",
    "data_pics = data_pics.append(data_pics_0).append(data_pics_3)\n",
    "target_pics = target_pics.append(target_pics_0).append(target_pics_3)\n",
    "\n",
    "\n",
    "data_pics.reset_index(inplace=True, drop=True)\n",
    "target_pics.reset_index(inplace=True, drop=True)\n",
    "\n",
    "print(data_pics.shape)"
   ]
  },
  {
   "cell_type": "code",
   "execution_count": 104,
   "metadata": {},
   "outputs": [
    {
     "name": "stdout",
     "output_type": "stream",
     "text": [
      "(658142, 221)\n",
      "class 0 has 616562 points\n",
      "class 1 has 41580 points\n",
      "41580 + 41580 = 83160\n"
     ]
    }
   ],
   "source": [
    "X_train, X_test, y_train, y_test = train_test_split(\n",
    "    data_pics, target_pics, test_size=0.1, random_state=randint(100, 10000))\n",
    "print(X_train.shape)\n",
    "X_train_train, X_vali, y_train_train, y_vali = train_test_split(\n",
    "    X_train, y_train, test_size=0.3, random_state=randint(100, 10000))\n",
    "print('class 0 has ' + str(len(y_train.index[y_train[0] == 0].tolist())) + ' points')\n",
    "print('class 1 has ' + str(len(y_train.index[y_train[0] == 1].tolist())) + ' points')\n",
    "\n",
    "index_0 = y_train.index[y_train[0] == 0].tolist()\n",
    "index_1 = y_train.index[y_train[0] != 0].tolist()\n",
    "index_0_comparable_to_1 = np.random.choice(index_0, math.floor(len(index_1) * 1))\n",
    "samples = np.concatenate([index_1, index_0_comparable_to_1])\n",
    "print(str(len(index_1)) + ' + ' + str(len(index_0_comparable_to_1)) + ' = ' + str(len(samples)))\n",
    "\n",
    "\n",
    "small_data = data_pics.iloc[samples, :]\n",
    "small_target = target_pics.iloc[samples, :]\n",
    "\n",
    "X_train_small, X_test_small, y_train_small, y_test_small = train_test_split(\n",
    "    small_data, small_target, test_size=0.3, random_state=randint(100, 10000))\n",
    "X_train_train_small, X_vali_small, y_train_train_small, y_vali_small = train_test_split(\n",
    "    X_train_small, y_train_small, test_size=0.3, random_state=randint(100, 10000))\n",
    "\n",
    "y_train_small_m = np.ravel(y_train_small)\n",
    "y_test_small_m = np.ravel(y_test_small)\n",
    "y_train_train_small_m = np.ravel(y_train_train_small)\n",
    "y_vali_small_m = np.ravel(y_vali_small)\n",
    "y_train_m = np.ravel(y_train)\n",
    "y_test_m = np.ravel(y_test)\n",
    "y_train_train_m = np.ravel(y_train_train)\n",
    "y_vali_m = np.ravel(y_vali)"
   ]
  },
  {
   "cell_type": "code",
   "execution_count": 105,
   "metadata": {},
   "outputs": [
    {
     "name": "stdout",
     "output_type": "stream",
     "text": [
      "[1 1 1 ... 0 0 0]\n"
     ]
    },
    {
     "data": {
      "text/plain": [
       "array([41580, 41580], dtype=int64)"
      ]
     },
     "execution_count": 105,
     "metadata": {},
     "output_type": "execute_result"
    }
   ],
   "source": [
    "x = small_target.values.tolist()\n",
    "x = np.ravel(x)\n",
    "print(x)\n",
    "np.bincount(x)"
   ]
  },
  {
   "cell_type": "code",
   "execution_count": 106,
   "metadata": {},
   "outputs": [
    {
     "name": "stdout",
     "output_type": "stream",
     "text": [
      "Iteration 1, loss = 0.73381342\n",
      "Iteration 2, loss = 0.55798219\n",
      "Iteration 3, loss = 0.55066806\n",
      "Iteration 4, loss = 0.54355051\n",
      "Iteration 5, loss = 0.54223324\n",
      "Iteration 6, loss = 0.53048772\n",
      "Iteration 7, loss = 0.52053622\n",
      "Iteration 8, loss = 0.51047660\n",
      "Iteration 9, loss = 0.51031375\n",
      "Iteration 10, loss = 0.49080060\n",
      "Iteration 11, loss = 0.48963562\n",
      "Iteration 12, loss = 0.47814060\n",
      "Iteration 13, loss = 0.47915779\n",
      "Iteration 14, loss = 0.47466764\n",
      "Iteration 15, loss = 0.47171432\n",
      "Iteration 16, loss = 0.46654419\n",
      "Iteration 17, loss = 0.46268823\n",
      "Iteration 18, loss = 0.46066742\n",
      "Iteration 19, loss = 0.46012901\n",
      "Iteration 20, loss = 0.45986168\n",
      "Iteration 21, loss = 0.45422075\n",
      "Iteration 22, loss = 0.44955791\n",
      "Iteration 23, loss = 0.44995637\n",
      "Iteration 24, loss = 0.44651431\n",
      "Iteration 25, loss = 0.45177304\n",
      "Iteration 26, loss = 0.44812825\n",
      "Iteration 27, loss = 0.44392855\n",
      "Iteration 28, loss = 0.44494537\n",
      "Iteration 29, loss = 0.44041646\n",
      "Iteration 30, loss = 0.43742769\n",
      "Iteration 31, loss = 0.43657494\n",
      "Iteration 32, loss = 0.43168010\n",
      "Iteration 33, loss = 0.42608448\n",
      "Iteration 34, loss = 0.43062911\n",
      "Iteration 35, loss = 0.42883093\n",
      "Iteration 36, loss = 0.43144211\n",
      "Training loss did not improve more than tol=0.000010 for two consecutive epochs. Stopping.\n"
     ]
    },
    {
     "data": {
      "text/plain": [
       "0.7557319223985891"
      ]
     },
     "execution_count": 106,
     "metadata": {},
     "output_type": "execute_result"
    }
   ],
   "source": [
    "mlpc_st = MLPClassifier(hidden_layer_sizes=(256, 128, 64, 32, 16, 8),\n",
    "                        alpha=0.15, max_iter=1000, batch_size=2000,\n",
    "                        verbose=True, learning_rate_init=0.01, tol=1e-5,\n",
    "                        learning_rate='adaptive')\n",
    "\n",
    "mlpc_st.fit(X_train_small, y_train_small_m)\n",
    "mlpc_st.score(X_test_small, y_test_small_m)"
   ]
  },
  {
   "cell_type": "code",
   "execution_count": 107,
   "metadata": {},
   "outputs": [
    {
     "name": "stdout",
     "output_type": "stream",
     "text": [
      "Iteration 1, loss = 0.72594199\n",
      "Iteration 2, loss = 0.57145892\n",
      "Iteration 3, loss = 0.54991985\n",
      "Iteration 4, loss = 0.54795765\n",
      "Iteration 5, loss = 0.54219803\n",
      "Iteration 6, loss = 0.53751368\n",
      "Iteration 7, loss = 0.53595661\n",
      "Iteration 8, loss = 0.52083960\n",
      "Iteration 9, loss = 0.51265405\n",
      "Iteration 10, loss = 0.49986759\n",
      "Iteration 11, loss = 0.48591920\n",
      "Iteration 12, loss = 0.48048876\n",
      "Iteration 13, loss = 0.47745275\n",
      "Iteration 14, loss = 0.46717925\n",
      "Iteration 15, loss = 0.46286448\n",
      "Iteration 16, loss = 0.46270855\n",
      "Iteration 17, loss = 0.45352533\n",
      "Iteration 18, loss = 0.44976491\n",
      "Iteration 19, loss = 0.44582241\n",
      "Iteration 20, loss = 0.44402968\n",
      "Iteration 21, loss = 0.43428263\n",
      "Iteration 22, loss = 0.42888618\n",
      "Iteration 23, loss = 0.42682679\n",
      "Iteration 24, loss = 0.42161322\n",
      "Iteration 25, loss = 0.42311242\n",
      "Iteration 26, loss = 0.41624012\n",
      "Iteration 27, loss = 0.41394818\n",
      "Iteration 28, loss = 0.41469066\n",
      "Iteration 29, loss = 0.41073494\n",
      "Iteration 30, loss = 0.40880544\n",
      "Iteration 31, loss = 0.41429679\n",
      "Iteration 32, loss = 0.41193311\n",
      "Iteration 33, loss = 0.39699697\n",
      "Iteration 34, loss = 0.39286395\n",
      "Iteration 35, loss = 0.39244297\n",
      "Iteration 36, loss = 0.38763919\n",
      "Iteration 37, loss = 0.38556714\n",
      "Iteration 38, loss = 0.38467133\n",
      "Iteration 39, loss = 0.38148647\n",
      "Iteration 40, loss = 0.37512223\n",
      "Iteration 41, loss = 0.37558301\n",
      "Iteration 42, loss = 0.37241502\n",
      "Iteration 43, loss = 0.36688889\n",
      "Iteration 44, loss = 0.36453643\n",
      "Iteration 45, loss = 0.36461010\n",
      "Iteration 46, loss = 0.36999218\n",
      "Iteration 47, loss = 0.36344845\n",
      "Iteration 48, loss = 0.35571293\n",
      "Iteration 49, loss = 0.35747135\n",
      "Iteration 50, loss = 0.36031593\n",
      "Iteration 51, loss = 0.34874218\n",
      "Iteration 52, loss = 0.35606644\n",
      "Iteration 53, loss = 0.34969721\n",
      "Iteration 54, loss = 0.34592951\n",
      "Iteration 55, loss = 0.34452989\n",
      "Iteration 56, loss = 0.34965638\n",
      "Iteration 57, loss = 0.33783263\n",
      "Iteration 58, loss = 0.34766220\n",
      "Iteration 59, loss = 0.34704794\n",
      "Iteration 60, loss = 0.33818780\n",
      "Training loss did not improve more than tol=0.000010 for two consecutive epochs. Stopping.\n",
      "Iteration 1, loss = 0.69893035\n",
      "Iteration 2, loss = 0.56269555\n",
      "Iteration 3, loss = 0.54793522\n",
      "Iteration 4, loss = 0.54044114\n",
      "Iteration 5, loss = 0.53508882\n",
      "Iteration 6, loss = 0.52798848\n",
      "Iteration 7, loss = 0.51905241\n",
      "Iteration 8, loss = 0.50759247\n",
      "Iteration 9, loss = 0.50395270\n",
      "Iteration 10, loss = 0.49212502\n",
      "Iteration 11, loss = 0.48319198\n",
      "Iteration 12, loss = 0.48733689\n",
      "Iteration 13, loss = 0.47259262\n",
      "Iteration 14, loss = 0.47668421\n",
      "Iteration 15, loss = 0.46419510\n",
      "Iteration 16, loss = 0.45815795\n",
      "Iteration 17, loss = 0.45119163\n",
      "Iteration 18, loss = 0.44369295\n",
      "Iteration 19, loss = 0.44898553\n",
      "Iteration 20, loss = 0.43752312\n",
      "Iteration 21, loss = 0.43829583\n",
      "Iteration 22, loss = 0.43132486\n",
      "Iteration 23, loss = 0.42748300\n",
      "Iteration 24, loss = 0.42395315\n",
      "Iteration 25, loss = 0.41954210\n",
      "Iteration 26, loss = 0.41779204\n",
      "Iteration 27, loss = 0.41347632\n",
      "Iteration 28, loss = 0.41102659\n",
      "Iteration 29, loss = 0.40871530\n",
      "Iteration 30, loss = 0.40095151\n",
      "Iteration 31, loss = 0.40073374\n",
      "Iteration 32, loss = 0.39581074\n",
      "Iteration 33, loss = 0.40037989\n",
      "Iteration 34, loss = 0.38988739\n",
      "Iteration 35, loss = 0.39189400\n",
      "Iteration 36, loss = 0.39683273\n",
      "Iteration 37, loss = 0.38363832\n",
      "Iteration 38, loss = 0.37849047\n",
      "Iteration 39, loss = 0.38057925\n",
      "Iteration 40, loss = 0.38176470\n",
      "Iteration 41, loss = 0.38159610\n",
      "Training loss did not improve more than tol=0.000010 for two consecutive epochs. Stopping.\n",
      "Iteration 1, loss = 0.75518609\n",
      "Iteration 2, loss = 0.58567448\n",
      "Iteration 3, loss = 0.55973112\n",
      "Iteration 4, loss = 0.54896454\n",
      "Iteration 5, loss = 0.54222342\n",
      "Iteration 6, loss = 0.53221530\n",
      "Iteration 7, loss = 0.52194759\n",
      "Iteration 8, loss = 0.51001461\n",
      "Iteration 9, loss = 0.50409763\n",
      "Iteration 10, loss = 0.49774933\n",
      "Iteration 11, loss = 0.48964359\n",
      "Iteration 12, loss = 0.47918387\n",
      "Iteration 13, loss = 0.47699060\n",
      "Iteration 14, loss = 0.47221011\n",
      "Iteration 15, loss = 0.46707451\n",
      "Iteration 16, loss = 0.45584574\n",
      "Iteration 17, loss = 0.45448452\n",
      "Iteration 18, loss = 0.45618950\n",
      "Iteration 19, loss = 0.44469493\n",
      "Iteration 20, loss = 0.44115470\n",
      "Iteration 21, loss = 0.43814859\n",
      "Iteration 22, loss = 0.43324458\n",
      "Iteration 23, loss = 0.42841737\n",
      "Iteration 24, loss = 0.42976383\n",
      "Iteration 25, loss = 0.43127348\n",
      "Iteration 26, loss = 0.42404195\n",
      "Iteration 27, loss = 0.41962484\n",
      "Iteration 28, loss = 0.41416768\n",
      "Iteration 29, loss = 0.40982203\n",
      "Iteration 30, loss = 0.40771523\n",
      "Iteration 31, loss = 0.40879377\n",
      "Iteration 32, loss = 0.39930208\n",
      "Iteration 33, loss = 0.39338260\n",
      "Iteration 34, loss = 0.38868524\n",
      "Iteration 35, loss = 0.38928720\n",
      "Iteration 36, loss = 0.38284166\n",
      "Iteration 37, loss = 0.38230688\n",
      "Iteration 38, loss = 0.39196787\n",
      "Iteration 39, loss = 0.38145515\n",
      "Iteration 40, loss = 0.37852645\n",
      "Iteration 41, loss = 0.37407293\n",
      "Iteration 42, loss = 0.37970740\n",
      "Iteration 43, loss = 0.36924408\n",
      "Iteration 44, loss = 0.37386384\n",
      "Iteration 45, loss = 0.36880365\n",
      "Iteration 46, loss = 0.37230147\n",
      "Iteration 47, loss = 0.35680072\n",
      "Iteration 48, loss = 0.35560020\n",
      "Iteration 49, loss = 0.36595219\n",
      "Iteration 50, loss = 0.35821335\n",
      "Iteration 51, loss = 0.35696185\n",
      "Training loss did not improve more than tol=0.000010 for two consecutive epochs. Stopping.\n",
      "Iteration 1, loss = 0.74411310\n",
      "Iteration 2, loss = 0.70703906\n",
      "Iteration 3, loss = 0.70184607\n",
      "Iteration 4, loss = 0.64503493\n",
      "Iteration 5, loss = 0.55864562\n",
      "Iteration 6, loss = 0.55113736\n",
      "Iteration 7, loss = 0.54827387\n",
      "Iteration 8, loss = 0.54864105\n",
      "Iteration 9, loss = 0.54424682\n",
      "Iteration 10, loss = 0.54143793\n",
      "Iteration 11, loss = 0.53965151\n",
      "Iteration 12, loss = 0.53622660\n",
      "Iteration 13, loss = 0.52851615\n",
      "Iteration 14, loss = 0.52533137\n",
      "Iteration 15, loss = 0.51600819\n",
      "Iteration 16, loss = 0.50878464\n",
      "Iteration 17, loss = 0.50154498\n",
      "Iteration 18, loss = 0.49756678\n",
      "Iteration 19, loss = 0.49584287\n",
      "Iteration 20, loss = 0.49255923\n",
      "Iteration 21, loss = 0.49073055\n",
      "Iteration 22, loss = 0.48987740\n",
      "Iteration 23, loss = 0.48257255\n",
      "Iteration 24, loss = 0.48315434\n",
      "Iteration 25, loss = 0.48469625\n",
      "Iteration 26, loss = 0.47465946\n",
      "Iteration 27, loss = 0.47229824\n",
      "Iteration 28, loss = 0.47579360\n",
      "Iteration 29, loss = 0.46687657\n",
      "Iteration 30, loss = 0.46538619\n",
      "Iteration 31, loss = 0.46259125\n",
      "Iteration 32, loss = 0.46122098\n",
      "Iteration 33, loss = 0.45477971\n",
      "Iteration 34, loss = 0.45495597\n",
      "Iteration 35, loss = 0.44552084\n",
      "Iteration 36, loss = 0.44453416\n",
      "Iteration 37, loss = 0.44777230\n",
      "Iteration 38, loss = 0.44010453\n",
      "Iteration 39, loss = 0.43404217\n",
      "Iteration 40, loss = 0.43359741\n",
      "Iteration 41, loss = 0.43345927\n",
      "Iteration 42, loss = 0.42646337\n",
      "Iteration 43, loss = 0.42991798\n",
      "Iteration 44, loss = 0.42245209\n",
      "Iteration 45, loss = 0.41654405\n",
      "Iteration 46, loss = 0.41758020\n",
      "Iteration 47, loss = 0.42383579\n",
      "Iteration 48, loss = 0.41822970\n",
      "Training loss did not improve more than tol=0.000010 for two consecutive epochs. Stopping.\n",
      "Iteration 1, loss = 0.67086660\n",
      "Iteration 2, loss = 0.56910302\n",
      "Iteration 3, loss = 0.55164346\n",
      "Iteration 4, loss = 0.54679913\n",
      "Iteration 5, loss = 0.54098996\n",
      "Iteration 6, loss = 0.53601223\n",
      "Iteration 7, loss = 0.52225731\n",
      "Iteration 8, loss = 0.51578651\n",
      "Iteration 9, loss = 0.50288094\n",
      "Iteration 10, loss = 0.49479584\n",
      "Iteration 11, loss = 0.49140541\n",
      "Iteration 12, loss = 0.48579048\n",
      "Iteration 13, loss = 0.47897047\n",
      "Iteration 14, loss = 0.47782359\n",
      "Iteration 15, loss = 0.46911919\n",
      "Iteration 16, loss = 0.46281827\n",
      "Iteration 17, loss = 0.46494777\n",
      "Iteration 18, loss = 0.45327537\n",
      "Iteration 19, loss = 0.45662351\n",
      "Iteration 20, loss = 0.44652821\n",
      "Iteration 21, loss = 0.44337175\n",
      "Iteration 22, loss = 0.44007070\n",
      "Iteration 23, loss = 0.44117096\n",
      "Iteration 24, loss = 0.44015715\n",
      "Iteration 25, loss = 0.43350273\n",
      "Iteration 26, loss = 0.42562301\n",
      "Iteration 27, loss = 0.43826296\n",
      "Iteration 28, loss = 0.42828283\n",
      "Iteration 29, loss = 0.42611772\n",
      "Training loss did not improve more than tol=0.000010 for two consecutive epochs. Stopping.\n"
     ]
    },
    {
     "data": {
      "text/plain": [
       "array([0.7367517 , 0.75736494, 0.75229752, 0.77100155, 0.77725281])"
      ]
     },
     "execution_count": 107,
     "metadata": {},
     "output_type": "execute_result"
    }
   ],
   "source": [
    "cross_val_score(mlpc_st, X_train_small, y_train_small_m, cv=5)"
   ]
  },
  {
   "cell_type": "code",
   "execution_count": 109,
   "metadata": {},
   "outputs": [],
   "source": [
    "import joblib\n",
    "joblib.dump(mlpc_st, os.path.join(os.curdir,'Models', 'model_score_75_method_1.joblib'))\n",
    "mlpc_st = joblib.load(os.path.join(os.curdir,'Models', 'model_score_75_method_1.joblib'))"
   ]
  },
  {
   "cell_type": "code",
   "execution_count": 22,
   "metadata": {},
   "outputs": [
    {
     "data": {
      "text/plain": [
       "0.16390279201591992"
      ]
     },
     "execution_count": 22,
     "metadata": {},
     "output_type": "execute_result"
    }
   ],
   "source": [
    "ypred = mlpc_st.predict(X_test_small)\n",
    "sum(ypred) / len(ypred)"
   ]
  },
  {
   "cell_type": "code",
   "execution_count": 23,
   "metadata": {},
   "outputs": [
    {
     "data": {
      "text/plain": [
       "array([ 2442, 12649,  1492], dtype=int64)"
      ]
     },
     "execution_count": 23,
     "metadata": {},
     "output_type": "execute_result"
    }
   ],
   "source": [
    "np.bincount(ypred - y_test_small_m + 1)"
   ]
  },
  {
   "cell_type": "code",
   "execution_count": 9,
   "metadata": {},
   "outputs": [
    {
     "data": {
      "text/plain": [
       "(array([ 807,    0,    0,    0,    0, 1700,    0,    0,    0,  321],\n",
       "       dtype=int64),\n",
       " array([0. , 0.2, 0.4, 0.6, 0.8, 1. , 1.2, 1.4, 1.6, 1.8, 2. ]))"
      ]
     },
     "execution_count": 9,
     "metadata": {},
     "output_type": "execute_result"
    }
   ],
   "source": [
    "np.histogram(ypred - y_test_small_m + 1)"
   ]
  },
  {
   "cell_type": "markdown",
   "metadata": {},
   "source": [
    "SVC is working too slow"
   ]
  },
  {
   "cell_type": "code",
   "execution_count": 3,
   "metadata": {},
   "outputs": [
    {
     "name": "stdout",
     "output_type": "stream",
     "text": [
      "[LibSVM]"
     ]
    },
    {
     "data": {
      "text/plain": [
       "0.6135077793493635"
      ]
     },
     "execution_count": 3,
     "metadata": {},
     "output_type": "execute_result"
    }
   ],
   "source": [
    "clf_st = SVC(C=10.0, gamma='auto', kernel='rbf', verbose=True)\n",
    "clf_st.fit(X_train_small, y_train_small_m)\n",
    "x = clf_st.score(X_test_small, y_test_small_m)\n",
    "print(x)\n",
    "ypred = clf_st.predict(X_test_small)\n",
    "print(sum(ypred) / len(ypred))\n",
    "print(np.bincount(ypred - y_test_small_m + 1))"
   ]
  }
 ],
 "metadata": {
  "kernelspec": {
   "display_name": "Python 3",
   "language": "python",
   "name": "python3"
  },
  "language_info": {
   "codemirror_mode": {
    "name": "ipython",
    "version": 3
   },
   "file_extension": ".py",
   "mimetype": "text/x-python",
   "name": "python",
   "nbconvert_exporter": "python",
   "pygments_lexer": "ipython3",
   "version": "3.6.2rc1"
  }
 },
 "nbformat": 4,
 "nbformat_minor": 2
}
