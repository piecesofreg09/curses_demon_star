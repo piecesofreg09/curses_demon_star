{
 "cells": [
  {
   "cell_type": "markdown",
   "metadata": {},
   "source": [
    "### 1. Import all the packages"
   ]
  },
  {
   "cell_type": "code",
   "execution_count": 520,
   "metadata": {},
   "outputs": [],
   "source": [
    "import numpy as np\n",
    "import math\n",
    "import pandas as pd\n",
    "import pickle, os, math\n",
    "from keras.models import Sequential\n",
    "from keras.callbacks import Callback\n",
    "from keras.layers import Dense\n",
    "import tensorflow as tf\n",
    "from sklearn.model_selection import train_test_split\n",
    "from sklearn.metrics import confusion_matrix, f1_score, precision_score, recall_score"
   ]
  },
  {
   "cell_type": "markdown",
   "metadata": {},
   "source": [
    "### 2.1 Import the data first"
   ]
  },
  {
   "cell_type": "markdown",
   "metadata": {},
   "source": [
    "There has been a huge mistake in the data generation. The mistake lies in the swap of x and y positions of the fighter. With the original data the accuracy stays constant around 50% in the balanced classes dataset, which shows that the data is not good enough."
   ]
  },
  {
   "cell_type": "code",
   "execution_count": 450,
   "metadata": {},
   "outputs": [
    {
     "data": {
      "text/plain": [
       "(200036, 17)"
      ]
     },
     "execution_count": 450,
     "metadata": {},
     "output_type": "execute_result"
    }
   ],
   "source": [
    "data_dir = os.path.join(os.curdir, 'Data', 'basic_data_short.pkl')\n",
    "with open(data_dir, 'rb') as in_file:\n",
    "    ot = pickle.load(in_file)\n",
    "data = ot['data']\n",
    "target = ot['target']\n",
    "data.shape"
   ]
  },
  {
   "cell_type": "code",
   "execution_count": 451,
   "metadata": {},
   "outputs": [],
   "source": [
    "sums = [None for i in range(data.shape[1])]\n",
    "for i in range(data.shape[1]):\n",
    "    sums[i] = np.sum(data.iloc[:, i])"
   ]
  },
  {
   "cell_type": "markdown",
   "metadata": {},
   "source": [
    "with help to [Thong Nguyen](https://medium.com/@thongonary/how-to-compute-f1-score-for-each-epoch-in-keras-a1acd17715a2)"
   ]
  },
  {
   "cell_type": "code",
   "execution_count": 452,
   "metadata": {},
   "outputs": [],
   "source": [
    "class Metrics(Callback):\n",
    "    def on_train_begin(self, logs={}):\n",
    "        self.val_f1s = []\n",
    "        self.val_recalls = []\n",
    "        self.val_precisions = []\n",
    "\n",
    "    def on_epoch_end(self, epoch, logs={}):\n",
    "        val_predict = (np.asarray(self.model.predict(self.validation_data[0]))).round()\n",
    "        val_targ = self.validation_data[1]\n",
    "        _val_f1 = f1_score(val_targ, val_predict)\n",
    "        _val_recall = recall_score(val_targ, val_predict)\n",
    "        _val_precision = precision_score(val_targ, val_predict)\n",
    "        self.val_f1s.append(_val_f1)\n",
    "        self.val_recalls.append(_val_recall)\n",
    "        self.val_precisions.append(_val_precision)\n",
    "        print(\"— val_f1: %f — val_precision: %f — val_recall %f\" % (_val_f1, _val_precision, _val_recall))\n",
    "        return\n",
    "\n",
    "metrics_usrdefined = Metrics()"
   ]
  },
  {
   "cell_type": "markdown",
   "metadata": {},
   "source": [
    "### 2.2 Preprocess data"
   ]
  },
  {
   "cell_type": "markdown",
   "metadata": {},
   "source": [
    "The first raw data is unbalanced with classes"
   ]
  },
  {
   "cell_type": "code",
   "execution_count": 453,
   "metadata": {},
   "outputs": [],
   "source": [
    "X_train, X_test, y_train, y_test = train_test_split(\n",
    "    data, target, test_size=0.1, random_state=152)\n",
    "X_train.shape\n",
    "X_train_train, X_vali, y_train_train, y_vali = train_test_split(\n",
    "    X_train, y_train, test_size=0.3, random_state=152)"
   ]
  },
  {
   "cell_type": "markdown",
   "metadata": {},
   "source": [
    "Create balanced classes sample data"
   ]
  },
  {
   "cell_type": "code",
   "execution_count": 531,
   "metadata": {},
   "outputs": [
    {
     "name": "stdout",
     "output_type": "stream",
     "text": [
      "13746\n",
      "13746\n",
      "27492\n"
     ]
    }
   ],
   "source": [
    "index_0 = y_train.index[y_train[0] == 0].tolist()\n",
    "print(len(index_0))\n",
    "index_1 = y_train.index[y_train[0] != 0].tolist()\n",
    "index_1_comparable_to_0 = np.random.choice(index_1, math.floor(len(index_0) * 1))\n",
    "print(len(index_1_comparable_to_0))\n",
    "samples = np.concatenate([index_0, index_1_comparable_to_0])\n",
    "print(len(samples))"
   ]
  },
  {
   "cell_type": "code",
   "execution_count": 532,
   "metadata": {},
   "outputs": [],
   "source": [
    "small_data = data.iloc[samples, :]\n",
    "small_target = target.iloc[samples, :]"
   ]
  },
  {
   "cell_type": "code",
   "execution_count": 533,
   "metadata": {},
   "outputs": [],
   "source": [
    "X_train_small, X_test_small, y_train_small, y_test_small = train_test_split(\n",
    "    small_data, small_target, test_size=0.3, random_state=152)\n",
    "X_train_train_small, X_vali_small, y_train_train_small, y_vali_small = train_test_split(\n",
    "    X_train_small, y_train_small, test_size=0.3, random_state=152)"
   ]
  },
  {
   "cell_type": "markdown",
   "metadata": {},
   "source": [
    "### 3. Try running neural network first with raw data"
   ]
  },
  {
   "cell_type": "code",
   "execution_count": 457,
   "metadata": {},
   "outputs": [],
   "source": [
    "model = Sequential()\n",
    "model.add(Dense(units=12, activation='relu', input_dim=17))\n",
    "model.add(Dense(units=6, activation='relu'))\n",
    "model.add(Dense(units=1, activation='linear'))\n",
    "model.compile(loss='mean_squared_error',\n",
    "              optimizer='rmsprop',\n",
    "              metrics=['accuracy'])"
   ]
  },
  {
   "cell_type": "code",
   "execution_count": 458,
   "metadata": {},
   "outputs": [
    {
     "name": "stdout",
     "output_type": "stream",
     "text": [
      "Train on 126022 samples, validate on 54010 samples\n",
      "Epoch 1/10\n",
      "126022/126022 [==============================] - 2s 19us/step - loss: 1.5753 - acc: 0.7348 - val_loss: 0.1008 - val_acc: 0.9172\n",
      "Epoch 2/10\n",
      "126022/126022 [==============================] - 1s 7us/step - loss: 0.0775 - acc: 0.9228 - val_loss: 0.0695 - val_acc: 0.9240\n",
      "Epoch 3/10\n",
      "126022/126022 [==============================] - 1s 6us/step - loss: 0.0710 - acc: 0.9234 - val_loss: 0.0691 - val_acc: 0.9241\n",
      "Epoch 4/10\n",
      "126022/126022 [==============================] - 1s 7us/step - loss: 0.0698 - acc: 0.9234 - val_loss: 0.0681 - val_acc: 0.9241\n",
      "Epoch 5/10\n",
      "126022/126022 [==============================] - 1s 7us/step - loss: 0.0692 - acc: 0.9234 - val_loss: 0.0713 - val_acc: 0.9239\n",
      "Epoch 6/10\n",
      "126022/126022 [==============================] - 1s 6us/step - loss: 0.0690 - acc: 0.9235 - val_loss: 0.0728 - val_acc: 0.9240\n",
      "Epoch 7/10\n",
      "126022/126022 [==============================] - 1s 6us/step - loss: 0.0688 - acc: 0.9234 - val_loss: 0.0719 - val_acc: 0.9240\n",
      "Epoch 8/10\n",
      "126022/126022 [==============================] - 1s 7us/step - loss: 0.0687 - acc: 0.9234 - val_loss: 0.0680 - val_acc: 0.9241\n",
      "Epoch 9/10\n",
      "126022/126022 [==============================] - 1s 6us/step - loss: 0.0686 - acc: 0.9234 - val_loss: 0.0744 - val_acc: 0.9241\n",
      "Epoch 10/10\n",
      "126022/126022 [==============================] - 1s 6us/step - loss: 0.0685 - acc: 0.9234 - val_loss: 0.0679 - val_acc: 0.9241\n"
     ]
    },
    {
     "data": {
      "text/plain": [
       "<keras.callbacks.History at 0x3426b978>"
      ]
     },
     "execution_count": 458,
     "metadata": {},
     "output_type": "execute_result"
    }
   ],
   "source": [
    "model.fit(X_train_train, y_train_train,\n",
    "          validation_data=(X_vali, y_vali), \n",
    "          epochs=10, batch_size=256, verbose=1)"
   ]
  },
  {
   "cell_type": "code",
   "execution_count": 459,
   "metadata": {},
   "outputs": [
    {
     "name": "stdout",
     "output_type": "stream",
     "text": [
      "20004/20004 [==============================] - 0s 7us/step\n",
      "[0.06779023905863311, 0.9247150570005208]\n"
     ]
    }
   ],
   "source": [
    "loss_and_metrics = model.evaluate(X_test, y_test, batch_size=128)\n",
    "print(loss_and_metrics)"
   ]
  },
  {
   "cell_type": "markdown",
   "metadata": {},
   "source": [
    "### The result is 98.4 accurate???\n",
    "\n",
    "It is a false hope. The model predicts everything to be one, and one takes up most of the data, so the result is really bad."
   ]
  },
  {
   "cell_type": "code",
   "execution_count": 460,
   "metadata": {},
   "outputs": [
    {
     "data": {
      "text/plain": [
       "0.944332813124875"
      ]
     },
     "execution_count": 460,
     "metadata": {},
     "output_type": "execute_result"
    }
   ],
   "source": [
    "y_predict = model.predict(X_test, batch_size=None, verbose=0)\n",
    "np.sum(y_predict) / len(y_predict)"
   ]
  },
  {
   "cell_type": "markdown",
   "metadata": {},
   "source": [
    "### 4. Dealing with imbalanced classes\n",
    "\n",
    "try to make the balanced classes"
   ]
  },
  {
   "cell_type": "code",
   "execution_count": 466,
   "metadata": {},
   "outputs": [],
   "source": [
    "model_small = Sequential()\n",
    "model_small.add(Dense(units=12, activation='relu', input_dim=17))\n",
    "model_small.add(Dense(units=12, activation='relu'))\n",
    "model_small.add(Dense(units=6, activation='relu'))\n",
    "model_small.add(Dense(units=1, activation='sigmoid'))\n",
    "model_small.compile(loss='mse',\n",
    "                    optimizer='rmsprop',\n",
    "                    metrics=['accuracy'])"
   ]
  },
  {
   "cell_type": "code",
   "execution_count": 472,
   "metadata": {
    "collapsed": true
   },
   "outputs": [
    {
     "name": "stdout",
     "output_type": "stream",
     "text": [
      "Train on 13470 samples, validate on 5774 samples\n",
      "Epoch 1/30\n",
      "13470/13470 [==============================] - 0s 8us/step - loss: 0.2239 - acc: 0.6229 - val_loss: 0.2257 - val_acc: 0.6200\n",
      "Epoch 2/30\n",
      "13470/13470 [==============================] - 0s 11us/step - loss: 0.2239 - acc: 0.6189 - val_loss: 0.2251 - val_acc: 0.6212\n",
      "Epoch 3/30\n",
      "13470/13470 [==============================] - 0s 8us/step - loss: 0.2235 - acc: 0.6209 - val_loss: 0.2250 - val_acc: 0.6211\n",
      "Epoch 4/30\n",
      "13470/13470 [==============================] - 0s 7us/step - loss: 0.2233 - acc: 0.6213 - val_loss: 0.2252 - val_acc: 0.6257\n",
      "Epoch 5/30\n",
      "13470/13470 [==============================] - 0s 7us/step - loss: 0.2232 - acc: 0.6195 - val_loss: 0.2243 - val_acc: 0.6148\n",
      "Epoch 6/30\n",
      "13470/13470 [==============================] - 0s 6us/step - loss: 0.2228 - acc: 0.6214 - val_loss: 0.2237 - val_acc: 0.6185\n",
      "Epoch 7/30\n",
      "13470/13470 [==============================] - 0s 6us/step - loss: 0.2220 - acc: 0.6236 - val_loss: 0.2240 - val_acc: 0.6172\n",
      "Epoch 8/30\n",
      "13470/13470 [==============================] - 0s 7us/step - loss: 0.2220 - acc: 0.6216 - val_loss: 0.2233 - val_acc: 0.6221\n",
      "Epoch 9/30\n",
      "13470/13470 [==============================] - 0s 7us/step - loss: 0.2219 - acc: 0.6263 - val_loss: 0.2241 - val_acc: 0.6186\n",
      "Epoch 10/30\n",
      "13470/13470 [==============================] - 0s 7us/step - loss: 0.2217 - acc: 0.6244 - val_loss: 0.2231 - val_acc: 0.6238\n",
      "Epoch 11/30\n",
      "13470/13470 [==============================] - 0s 7us/step - loss: 0.2215 - acc: 0.6263 - val_loss: 0.2232 - val_acc: 0.6192\n",
      "Epoch 12/30\n",
      "13470/13470 [==============================] - 0s 7us/step - loss: 0.2214 - acc: 0.6244 - val_loss: 0.2241 - val_acc: 0.6160\n",
      "Epoch 13/30\n",
      "13470/13470 [==============================] - 0s 7us/step - loss: 0.2215 - acc: 0.6260 - val_loss: 0.2226 - val_acc: 0.6209\n",
      "Epoch 14/30\n",
      "13470/13470 [==============================] - 0s 7us/step - loss: 0.2212 - acc: 0.6248 - val_loss: 0.2231 - val_acc: 0.6287\n",
      "Epoch 15/30\n",
      "13470/13470 [==============================] - 0s 8us/step - loss: 0.2210 - acc: 0.6264 - val_loss: 0.2230 - val_acc: 0.6282\n",
      "Epoch 16/30\n",
      "13470/13470 [==============================] - 0s 9us/step - loss: 0.2211 - acc: 0.6257 - val_loss: 0.2225 - val_acc: 0.6223\n",
      "Epoch 17/30\n",
      "13470/13470 [==============================] - 0s 8us/step - loss: 0.2209 - acc: 0.6249 - val_loss: 0.2222 - val_acc: 0.6259\n",
      "Epoch 18/30\n",
      "13470/13470 [==============================] - 0s 6us/step - loss: 0.2209 - acc: 0.6223 - val_loss: 0.2234 - val_acc: 0.6185\n",
      "Epoch 19/30\n",
      "13470/13470 [==============================] - 0s 7us/step - loss: 0.2207 - acc: 0.6264 - val_loss: 0.2226 - val_acc: 0.6256\n",
      "Epoch 20/30\n",
      "13470/13470 [==============================] - 0s 7us/step - loss: 0.2207 - acc: 0.6261 - val_loss: 0.2238 - val_acc: 0.6231\n",
      "Epoch 21/30\n",
      "13470/13470 [==============================] - 0s 7us/step - loss: 0.2205 - acc: 0.6230 - val_loss: 0.2230 - val_acc: 0.6275\n",
      "Epoch 22/30\n",
      "13470/13470 [==============================] - 0s 7us/step - loss: 0.2204 - acc: 0.6264 - val_loss: 0.2225 - val_acc: 0.6205\n",
      "Epoch 23/30\n",
      "13470/13470 [==============================] - 0s 7us/step - loss: 0.2203 - acc: 0.6246 - val_loss: 0.2229 - val_acc: 0.6242\n",
      "Epoch 24/30\n",
      "13470/13470 [==============================] - 0s 7us/step - loss: 0.2201 - acc: 0.6261 - val_loss: 0.2219 - val_acc: 0.6240\n",
      "Epoch 25/30\n",
      "13470/13470 [==============================] - 0s 6us/step - loss: 0.2202 - acc: 0.6246 - val_loss: 0.2237 - val_acc: 0.6172\n",
      "Epoch 26/30\n",
      "13470/13470 [==============================] - 0s 7us/step - loss: 0.2201 - acc: 0.6248 - val_loss: 0.2230 - val_acc: 0.6231\n",
      "Epoch 27/30\n",
      "13470/13470 [==============================] - 0s 7us/step - loss: 0.2201 - acc: 0.6262 - val_loss: 0.2240 - val_acc: 0.6171\n",
      "Epoch 28/30\n",
      "13470/13470 [==============================] - 0s 11us/step - loss: 0.2199 - acc: 0.6258 - val_loss: 0.2219 - val_acc: 0.6185\n",
      "Epoch 29/30\n",
      "13470/13470 [==============================] - 0s 8us/step - loss: 0.2193 - acc: 0.6314 - val_loss: 0.2219 - val_acc: 0.6223\n",
      "Epoch 30/30\n",
      "13470/13470 [==============================] - 0s 7us/step - loss: 0.2198 - acc: 0.6272 - val_loss: 0.2218 - val_acc: 0.6244\n"
     ]
    },
    {
     "data": {
      "text/plain": [
       "<keras.callbacks.History at 0x38f99278>"
      ]
     },
     "execution_count": 472,
     "metadata": {},
     "output_type": "execute_result"
    }
   ],
   "source": [
    "model_small.fit(X_train_train_small, y_train_train_small,\n",
    "          validation_data=(X_vali_small, y_vali_small), \n",
    "          epochs=30, batch_size=256, verbose=1)"
   ]
  },
  {
   "cell_type": "code",
   "execution_count": 468,
   "metadata": {},
   "outputs": [
    {
     "name": "stdout",
     "output_type": "stream",
     "text": [
      "8248/8248 [==============================] - 0s 8us/step\n"
     ]
    },
    {
     "data": {
      "text/plain": [
       "[0.23251390897973317, 0.6043889427161934]"
      ]
     },
     "execution_count": 468,
     "metadata": {},
     "output_type": "execute_result"
    }
   ],
   "source": [
    "loss_and_metrics_small = model_small.evaluate(X_test_small, y_test_small, batch_size=128)\n",
    "loss_and_metrics_small"
   ]
  },
  {
   "cell_type": "code",
   "execution_count": 469,
   "metadata": {},
   "outputs": [],
   "source": [
    "y_predict_small = model_small.predict(X_test_small, batch_size=None, verbose=0)"
   ]
  },
  {
   "cell_type": "code",
   "execution_count": 470,
   "metadata": {},
   "outputs": [
    {
     "data": {
      "text/plain": [
       "array([[0.55761814],\n",
       "       [0.49108914],\n",
       "       [0.6186435 ],\n",
       "       ...,\n",
       "       [0.24693784],\n",
       "       [0.5278685 ],\n",
       "       [0.5298917 ]], dtype=float32)"
      ]
     },
     "execution_count": 470,
     "metadata": {},
     "output_type": "execute_result"
    }
   ],
   "source": [
    "y_predict_small"
   ]
  },
  {
   "cell_type": "markdown",
   "metadata": {},
   "source": [
    "### 5. test the neural network with a small dataset from sklearn\n",
    "\n",
    "using the cancer dataset"
   ]
  },
  {
   "cell_type": "code",
   "execution_count": 333,
   "metadata": {},
   "outputs": [],
   "source": [
    "from sklearn.datasets import load_breast_cancer\n",
    "res = load_breast_cancer()"
   ]
  },
  {
   "cell_type": "code",
   "execution_count": 335,
   "metadata": {},
   "outputs": [],
   "source": [
    "X = res['data']\n",
    "y = res['target']"
   ]
  },
  {
   "cell_type": "code",
   "execution_count": 336,
   "metadata": {},
   "outputs": [],
   "source": [
    "X_ctr, X_cte, y_ctr, y_cte = train_test_split(\n",
    "    X, y, test_size=0.3, random_state=152)"
   ]
  },
  {
   "cell_type": "code",
   "execution_count": 397,
   "metadata": {},
   "outputs": [],
   "source": [
    "model_cancer = Sequential()\n",
    "model_cancer.add(Dense(units=12, activation='relu', input_dim=30))\n",
    "model_cancer.add(Dense(units=12, activation='relu'))\n",
    "model_cancer.add(Dense(units=6, activation='relu'))\n",
    "model_cancer.add(Dense(units=1, activation='sigmoid'))\n",
    "model_cancer.compile(loss='mse',\n",
    "                    optimizer='rmsprop',\n",
    "                    metrics=['accuracy'])"
   ]
  },
  {
   "cell_type": "code",
   "execution_count": 398,
   "metadata": {
    "collapsed": true
   },
   "outputs": [
    {
     "name": "stdout",
     "output_type": "stream",
     "text": [
      "Epoch 1/50\n",
      "398/398 [==============================] - 1s 3ms/step - loss: 0.5930 - acc: 0.4070\n",
      "Epoch 2/50\n",
      "398/398 [==============================] - 0s 13us/step - loss: 0.5929 - acc: 0.4070\n",
      "Epoch 3/50\n",
      "398/398 [==============================] - 0s 13us/step - loss: 0.5927 - acc: 0.4070\n",
      "Epoch 4/50\n",
      "398/398 [==============================] - 0s 15us/step - loss: 0.5920 - acc: 0.4070\n",
      "Epoch 5/50\n",
      "398/398 [==============================] - 0s 10us/step - loss: 0.5894 - acc: 0.4070\n",
      "Epoch 6/50\n",
      "398/398 [==============================] - 0s 15us/step - loss: 0.5832 - acc: 0.4070\n",
      "Epoch 7/50\n",
      "398/398 [==============================] - 0s 10us/step - loss: 0.5710 - acc: 0.4070\n",
      "Epoch 8/50\n",
      "398/398 [==============================] - 0s 13us/step - loss: 0.5502 - acc: 0.4070\n",
      "Epoch 9/50\n",
      "398/398 [==============================] - 0s 15us/step - loss: 0.5188 - acc: 0.4070\n",
      "Epoch 10/50\n",
      "398/398 [==============================] - 0s 15us/step - loss: 0.4754 - acc: 0.4070\n",
      "Epoch 11/50\n",
      "398/398 [==============================] - 0s 15us/step - loss: 0.4238 - acc: 0.4070\n",
      "Epoch 12/50\n",
      "398/398 [==============================] - 0s 13us/step - loss: 0.3761 - acc: 0.4070\n",
      "Epoch 13/50\n",
      "398/398 [==============================] - 0s 13us/step - loss: 0.3265 - acc: 0.4070\n",
      "Epoch 14/50\n",
      "398/398 [==============================] - 0s 13us/step - loss: 0.2793 - acc: 0.4070\n",
      "Epoch 15/50\n",
      "398/398 [==============================] - 0s 15us/step - loss: 0.2420 - acc: 0.4070\n",
      "Epoch 16/50\n",
      "398/398 [==============================] - 0s 15us/step - loss: 0.2115 - acc: 0.4070\n",
      "Epoch 17/50\n",
      "398/398 [==============================] - 0s 15us/step - loss: 0.1817 - acc: 0.5503\n",
      "Epoch 18/50\n",
      "398/398 [==============================] - 0s 18us/step - loss: 0.1635 - acc: 0.8819\n",
      "Epoch 19/50\n",
      "398/398 [==============================] - 0s 15us/step - loss: 0.1463 - acc: 0.9196\n",
      "Epoch 20/50\n",
      "398/398 [==============================] - 0s 10us/step - loss: 0.1367 - acc: 0.8995\n",
      "Epoch 21/50\n",
      "398/398 [==============================] - 0s 15us/step - loss: 0.1242 - acc: 0.9171\n",
      "Epoch 22/50\n",
      "398/398 [==============================] - 0s 13us/step - loss: 0.1204 - acc: 0.9020\n",
      "Epoch 23/50\n",
      "398/398 [==============================] - 0s 18us/step - loss: 0.1156 - acc: 0.8995\n",
      "Epoch 24/50\n",
      "398/398 [==============================] - 0s 15us/step - loss: 0.1008 - acc: 0.9146\n",
      "Epoch 25/50\n",
      "398/398 [==============================] - 0s 15us/step - loss: 0.0968 - acc: 0.9045\n",
      "Epoch 26/50\n",
      "398/398 [==============================] - 0s 13us/step - loss: 0.0921 - acc: 0.9171\n",
      "Epoch 27/50\n",
      "398/398 [==============================] - 0s 13us/step - loss: 0.0907 - acc: 0.9171\n",
      "Epoch 28/50\n",
      "398/398 [==============================] - 0s 15us/step - loss: 0.0853 - acc: 0.9171\n",
      "Epoch 29/50\n",
      "398/398 [==============================] - 0s 13us/step - loss: 0.0832 - acc: 0.9070\n",
      "Epoch 30/50\n",
      "398/398 [==============================] - 0s 13us/step - loss: 0.0851 - acc: 0.9070\n",
      "Epoch 31/50\n",
      "398/398 [==============================] - 0s 13us/step - loss: 0.0850 - acc: 0.9070\n",
      "Epoch 32/50\n",
      "398/398 [==============================] - 0s 13us/step - loss: 0.0784 - acc: 0.9171\n",
      "Epoch 33/50\n",
      "398/398 [==============================] - 0s 15us/step - loss: 0.0764 - acc: 0.9171\n",
      "Epoch 34/50\n",
      "398/398 [==============================] - 0s 13us/step - loss: 0.0754 - acc: 0.9121\n",
      "Epoch 35/50\n",
      "398/398 [==============================] - 0s 13us/step - loss: 0.0759 - acc: 0.9171\n",
      "Epoch 36/50\n",
      "398/398 [==============================] - 0s 18us/step - loss: 0.0773 - acc: 0.9070\n",
      "Epoch 37/50\n",
      "398/398 [==============================] - 0s 15us/step - loss: 0.0731 - acc: 0.9121\n",
      "Epoch 38/50\n",
      "398/398 [==============================] - 0s 13us/step - loss: 0.0737 - acc: 0.9221\n",
      "Epoch 39/50\n",
      "398/398 [==============================] - 0s 15us/step - loss: 0.0721 - acc: 0.9121\n",
      "Epoch 40/50\n",
      "398/398 [==============================] - 0s 10us/step - loss: 0.0734 - acc: 0.9146\n",
      "Epoch 41/50\n",
      "398/398 [==============================] - 0s 10us/step - loss: 0.0789 - acc: 0.9070\n",
      "Epoch 42/50\n",
      "398/398 [==============================] - 0s 15us/step - loss: 0.0788 - acc: 0.8995\n",
      "Epoch 43/50\n",
      "398/398 [==============================] - 0s 13us/step - loss: 0.0729 - acc: 0.9095\n",
      "Epoch 44/50\n",
      "398/398 [==============================] - 0s 15us/step - loss: 0.0698 - acc: 0.9095\n",
      "Epoch 45/50\n",
      "398/398 [==============================] - 0s 15us/step - loss: 0.0698 - acc: 0.9221\n",
      "Epoch 46/50\n",
      "398/398 [==============================] - 0s 15us/step - loss: 0.0735 - acc: 0.9095\n",
      "Epoch 47/50\n",
      "398/398 [==============================] - 0s 15us/step - loss: 0.0800 - acc: 0.9045\n",
      "Epoch 48/50\n",
      "398/398 [==============================] - 0s 13us/step - loss: 0.0786 - acc: 0.9070\n",
      "Epoch 49/50\n",
      "398/398 [==============================] - 0s 13us/step - loss: 0.0771 - acc: 0.9020\n",
      "Epoch 50/50\n",
      "398/398 [==============================] - 0s 13us/step - loss: 0.0695 - acc: 0.9146\n"
     ]
    },
    {
     "data": {
      "text/plain": [
       "<keras.callbacks.History at 0x33f47208>"
      ]
     },
     "execution_count": 398,
     "metadata": {},
     "output_type": "execute_result"
    }
   ],
   "source": [
    "model_cancer.fit(X_ctr, y_ctr, \n",
    "          epochs=50, batch_size=256, verbose=1)"
   ]
  },
  {
   "cell_type": "code",
   "execution_count": 399,
   "metadata": {},
   "outputs": [
    {
     "name": "stdout",
     "output_type": "stream",
     "text": [
      "171/171 [==============================] - 0s 3ms/step\n"
     ]
    },
    {
     "data": {
      "text/plain": [
       "[0.05982166929551733, 0.9298245624492043]"
      ]
     },
     "execution_count": 399,
     "metadata": {},
     "output_type": "execute_result"
    }
   ],
   "source": [
    "loss_and_metrics = model_cancer.evaluate(X_cte, y_cte, batch_size=128)\n",
    "y_predict_cancer = model_cancer.predict(X_cte, batch_size=None, verbose=0)\n",
    "loss_and_metrics"
   ]
  },
  {
   "cell_type": "markdown",
   "metadata": {},
   "source": [
    "**It can be seen that the neural network written in keras works fine.**"
   ]
  },
  {
   "cell_type": "markdown",
   "metadata": {},
   "source": [
    "### 6. test with a small mlp from scikit learn"
   ]
  },
  {
   "cell_type": "code",
   "execution_count": 345,
   "metadata": {},
   "outputs": [],
   "source": [
    "from sklearn.neural_network import MLPClassifier"
   ]
  },
  {
   "cell_type": "code",
   "execution_count": 500,
   "metadata": {},
   "outputs": [],
   "source": [
    "mlpc = MLPClassifier(hidden_layer_sizes=(100, 100, 100), alpha=0.001, max_iter=1000, verbose=True, learning_rate_init=0.01)"
   ]
  },
  {
   "cell_type": "code",
   "execution_count": 501,
   "metadata": {},
   "outputs": [
    {
     "name": "stdout",
     "output_type": "stream",
     "text": [
      "Iteration 1, loss = 11.14467975\n",
      "Iteration 2, loss = 13.65405190\n",
      "Iteration 3, loss = 9.37279862\n",
      "Iteration 4, loss = 10.56695409\n",
      "Iteration 5, loss = 12.32709532\n",
      "Iteration 6, loss = 4.00297492\n",
      "Iteration 7, loss = 7.70804793\n",
      "Iteration 8, loss = 2.49859031\n",
      "Iteration 9, loss = 2.23042657\n",
      "Iteration 10, loss = 1.20085262\n",
      "Iteration 11, loss = 0.60518680\n",
      "Iteration 12, loss = 0.53854086\n",
      "Iteration 13, loss = 0.51404514\n",
      "Iteration 14, loss = 0.41708459\n",
      "Iteration 15, loss = 0.35831535\n",
      "Iteration 16, loss = 0.35552345\n",
      "Iteration 17, loss = 0.35761314\n",
      "Iteration 18, loss = 0.31602525\n",
      "Iteration 19, loss = 0.31249138\n",
      "Iteration 20, loss = 0.28199130\n",
      "Iteration 21, loss = 0.24483918\n",
      "Iteration 22, loss = 0.23275928\n",
      "Iteration 23, loss = 0.20916527\n",
      "Iteration 24, loss = 0.21796147\n",
      "Iteration 25, loss = 0.21152831\n",
      "Iteration 26, loss = 0.24042567\n",
      "Training loss did not improve more than tol=0.000100 for two consecutive epochs. Stopping.\n"
     ]
    },
    {
     "data": {
      "text/plain": [
       "MLPClassifier(activation='relu', alpha=0.001, batch_size='auto', beta_1=0.9,\n",
       "       beta_2=0.999, early_stopping=False, epsilon=1e-08,\n",
       "       hidden_layer_sizes=(100, 100, 100), learning_rate='constant',\n",
       "       learning_rate_init=0.01, max_iter=1000, momentum=0.9,\n",
       "       nesterovs_momentum=True, power_t=0.5, random_state=None,\n",
       "       shuffle=True, solver='adam', tol=0.0001, validation_fraction=0.1,\n",
       "       verbose=True, warm_start=False)"
      ]
     },
     "execution_count": 501,
     "metadata": {},
     "output_type": "execute_result"
    }
   ],
   "source": [
    "mlpc.fit(X_ctr, y_ctr)"
   ]
  },
  {
   "cell_type": "code",
   "execution_count": 502,
   "metadata": {},
   "outputs": [
    {
     "data": {
      "text/plain": [
       "0.9239766081871345"
      ]
     },
     "execution_count": 502,
     "metadata": {},
     "output_type": "execute_result"
    }
   ],
   "source": [
    "mlpc.score(X_cte, y_cte)"
   ]
  },
  {
   "cell_type": "markdown",
   "metadata": {},
   "source": [
    "### 7.  test with the data that I have using sklearn MLP"
   ]
  },
  {
   "cell_type": "code",
   "execution_count": 595,
   "metadata": {},
   "outputs": [],
   "source": [
    "mlpc_1 = MLPClassifier(hidden_layer_sizes=(200, 100, 100, 100),\n",
    "                       alpha=0.05, max_iter=1000, \n",
    "                       verbose=True, learning_rate_init=0.02, tol=1e-4)"
   ]
  },
  {
   "cell_type": "code",
   "execution_count": 596,
   "metadata": {},
   "outputs": [],
   "source": [
    "from sklearn.utils.validation import column_or_1d\n",
    "y_train_small_m = np.ravel(y_train_small)\n",
    "y_test_small_m = np.ravel(y_test_small)\n",
    "len(y_train_small_m)\n",
    "y_train_m = np.ravel(y_train)\n",
    "y_test_m = np.ravel(y_test)"
   ]
  },
  {
   "cell_type": "code",
   "execution_count": 597,
   "metadata": {},
   "outputs": [],
   "source": [
    "X_train_small_less_1 = X_train_small.iloc[:, 3:13]\n",
    "X_train_small_less_2 = X_train_small.iloc[:, 16:]\n",
    "X_train_small_less = pd.concat([X_train_small_less_1, X_train_small_less_2], axis=1)\n",
    "\n",
    "X_test_small_less_1 = X_test_small.iloc[:, 3:13]\n",
    "X_test_small_less_2 = X_test_small.iloc[:, 16:]\n",
    "X_test_small_less = pd.concat([X_test_small_less_1, X_test_small_less_2], axis=1)"
   ]
  },
  {
   "cell_type": "code",
   "execution_count": 598,
   "metadata": {},
   "outputs": [
    {
     "data": {
      "text/html": [
       "<div>\n",
       "<style scoped>\n",
       "    .dataframe tbody tr th:only-of-type {\n",
       "        vertical-align: middle;\n",
       "    }\n",
       "\n",
       "    .dataframe tbody tr th {\n",
       "        vertical-align: top;\n",
       "    }\n",
       "\n",
       "    .dataframe thead th {\n",
       "        text-align: right;\n",
       "    }\n",
       "</style>\n",
       "<table border=\"1\" class=\"dataframe\">\n",
       "  <thead>\n",
       "    <tr style=\"text-align: right;\">\n",
       "      <th></th>\n",
       "      <th>0</th>\n",
       "      <th>1</th>\n",
       "      <th>2</th>\n",
       "      <th>3</th>\n",
       "      <th>4</th>\n",
       "      <th>5</th>\n",
       "      <th>6</th>\n",
       "      <th>7</th>\n",
       "      <th>8</th>\n",
       "      <th>9</th>\n",
       "      <th>10</th>\n",
       "      <th>11</th>\n",
       "      <th>12</th>\n",
       "      <th>13</th>\n",
       "      <th>14</th>\n",
       "      <th>15</th>\n",
       "      <th>16</th>\n",
       "    </tr>\n",
       "  </thead>\n",
       "  <tbody>\n",
       "    <tr>\n",
       "      <th>130421</th>\n",
       "      <td>-22</td>\n",
       "      <td>-22</td>\n",
       "      <td>-22</td>\n",
       "      <td>-22</td>\n",
       "      <td>-22</td>\n",
       "      <td>-22</td>\n",
       "      <td>-22</td>\n",
       "      <td>-22</td>\n",
       "      <td>-22</td>\n",
       "      <td>-22</td>\n",
       "      <td>-22</td>\n",
       "      <td>-22</td>\n",
       "      <td>-22</td>\n",
       "      <td>-22</td>\n",
       "      <td>0</td>\n",
       "      <td>0</td>\n",
       "      <td>-1</td>\n",
       "    </tr>\n",
       "    <tr>\n",
       "      <th>101101</th>\n",
       "      <td>-14</td>\n",
       "      <td>-14</td>\n",
       "      <td>-14</td>\n",
       "      <td>-14</td>\n",
       "      <td>-14</td>\n",
       "      <td>-14</td>\n",
       "      <td>-14</td>\n",
       "      <td>-14</td>\n",
       "      <td>-14</td>\n",
       "      <td>-14</td>\n",
       "      <td>-14</td>\n",
       "      <td>-14</td>\n",
       "      <td>-14</td>\n",
       "      <td>-14</td>\n",
       "      <td>0</td>\n",
       "      <td>0</td>\n",
       "      <td>0</td>\n",
       "    </tr>\n",
       "    <tr>\n",
       "      <th>4388</th>\n",
       "      <td>-10</td>\n",
       "      <td>-10</td>\n",
       "      <td>-10</td>\n",
       "      <td>-10</td>\n",
       "      <td>-10</td>\n",
       "      <td>-10</td>\n",
       "      <td>-10</td>\n",
       "      <td>-10</td>\n",
       "      <td>-10</td>\n",
       "      <td>-10</td>\n",
       "      <td>-10</td>\n",
       "      <td>-10</td>\n",
       "      <td>-10</td>\n",
       "      <td>-10</td>\n",
       "      <td>0</td>\n",
       "      <td>0</td>\n",
       "      <td>-1</td>\n",
       "    </tr>\n",
       "    <tr>\n",
       "      <th>160831</th>\n",
       "      <td>-13</td>\n",
       "      <td>-13</td>\n",
       "      <td>-13</td>\n",
       "      <td>-13</td>\n",
       "      <td>-13</td>\n",
       "      <td>-13</td>\n",
       "      <td>-13</td>\n",
       "      <td>-13</td>\n",
       "      <td>-13</td>\n",
       "      <td>-13</td>\n",
       "      <td>-13</td>\n",
       "      <td>-13</td>\n",
       "      <td>-13</td>\n",
       "      <td>-13</td>\n",
       "      <td>0</td>\n",
       "      <td>0</td>\n",
       "      <td>-1</td>\n",
       "    </tr>\n",
       "    <tr>\n",
       "      <th>31436</th>\n",
       "      <td>-16</td>\n",
       "      <td>-16</td>\n",
       "      <td>-16</td>\n",
       "      <td>-16</td>\n",
       "      <td>-16</td>\n",
       "      <td>-16</td>\n",
       "      <td>-16</td>\n",
       "      <td>-16</td>\n",
       "      <td>-16</td>\n",
       "      <td>-16</td>\n",
       "      <td>0</td>\n",
       "      <td>-16</td>\n",
       "      <td>-16</td>\n",
       "      <td>-16</td>\n",
       "      <td>0</td>\n",
       "      <td>0</td>\n",
       "      <td>0</td>\n",
       "    </tr>\n",
       "  </tbody>\n",
       "</table>\n",
       "</div>"
      ],
      "text/plain": [
       "        0   1   2   3   4   5   6   7   8   9   10  11  12  13  14  15  16\n",
       "130421 -22 -22 -22 -22 -22 -22 -22 -22 -22 -22 -22 -22 -22 -22   0   0  -1\n",
       "101101 -14 -14 -14 -14 -14 -14 -14 -14 -14 -14 -14 -14 -14 -14   0   0   0\n",
       "4388   -10 -10 -10 -10 -10 -10 -10 -10 -10 -10 -10 -10 -10 -10   0   0  -1\n",
       "160831 -13 -13 -13 -13 -13 -13 -13 -13 -13 -13 -13 -13 -13 -13   0   0  -1\n",
       "31436  -16 -16 -16 -16 -16 -16 -16 -16 -16 -16   0 -16 -16 -16   0   0   0"
      ]
     },
     "execution_count": 598,
     "metadata": {},
     "output_type": "execute_result"
    }
   ],
   "source": [
    "X_train_small.head()"
   ]
  },
  {
   "cell_type": "code",
   "execution_count": 599,
   "metadata": {},
   "outputs": [
    {
     "name": "stdout",
     "output_type": "stream",
     "text": [
      "Iteration 1, loss = 0.90895367\n",
      "Iteration 2, loss = 0.73532659\n",
      "Iteration 3, loss = 0.72164651\n",
      "Iteration 4, loss = 0.69735924\n",
      "Iteration 5, loss = 0.69112344\n",
      "Iteration 6, loss = 0.68176014\n",
      "Iteration 7, loss = 0.68027649\n",
      "Iteration 8, loss = 0.67842622\n",
      "Iteration 9, loss = 0.67473790\n",
      "Iteration 10, loss = 0.67555945\n",
      "Iteration 11, loss = 0.67022124\n",
      "Iteration 12, loss = 0.67161136\n",
      "Iteration 13, loss = 0.67219869\n",
      "Iteration 14, loss = 0.67895905\n",
      "Training loss did not improve more than tol=0.000100 for two consecutive epochs. Stopping.\n"
     ]
    },
    {
     "data": {
      "text/plain": [
       "MLPClassifier(activation='relu', alpha=0.05, batch_size='auto', beta_1=0.9,\n",
       "       beta_2=0.999, early_stopping=False, epsilon=1e-08,\n",
       "       hidden_layer_sizes=(200, 100, 100, 100), learning_rate='constant',\n",
       "       learning_rate_init=0.02, max_iter=1000, momentum=0.9,\n",
       "       nesterovs_momentum=True, power_t=0.5, random_state=None,\n",
       "       shuffle=True, solver='adam', tol=0.0001, validation_fraction=0.1,\n",
       "       verbose=True, warm_start=False)"
      ]
     },
     "execution_count": 599,
     "metadata": {},
     "output_type": "execute_result"
    }
   ],
   "source": [
    "mlpc_1.fit(X_train_small, y_train_small_m)"
   ]
  },
  {
   "cell_type": "code",
   "execution_count": 600,
   "metadata": {},
   "outputs": [
    {
     "data": {
      "text/plain": [
       "0.5982056256062076"
      ]
     },
     "execution_count": 600,
     "metadata": {},
     "output_type": "execute_result"
    }
   ],
   "source": [
    "mlpc_1.score(X_test_small, y_test_small_m)"
   ]
  },
  {
   "cell_type": "code",
   "execution_count": 493,
   "metadata": {},
   "outputs": [],
   "source": [
    "test_111 = mlpc_1.predict(X_test_small)"
   ]
  },
  {
   "cell_type": "code",
   "execution_count": 494,
   "metadata": {},
   "outputs": [
    {
     "data": {
      "text/plain": [
       "0.6064500484966052"
      ]
     },
     "execution_count": 494,
     "metadata": {},
     "output_type": "execute_result"
    }
   ],
   "source": [
    "sum(test_111) / len(test_111)"
   ]
  },
  {
   "cell_type": "markdown",
   "metadata": {},
   "source": [
    "The accuracy is still very low, so it's not the problem of the neural network"
   ]
  },
  {
   "cell_type": "markdown",
   "metadata": {},
   "source": [
    "test"
   ]
  },
  {
   "cell_type": "code",
   "execution_count": null,
   "metadata": {},
   "outputs": [],
   "source": []
  }
 ],
 "metadata": {
  "kernelspec": {
   "display_name": "Python 3",
   "language": "python",
   "name": "python3"
  },
  "language_info": {
   "codemirror_mode": {
    "name": "ipython",
    "version": 3
   },
   "file_extension": ".py",
   "mimetype": "text/x-python",
   "name": "python",
   "nbconvert_exporter": "python",
   "pygments_lexer": "ipython3",
   "version": "3.6.2rc1"
  }
 },
 "nbformat": 4,
 "nbformat_minor": 2
}
